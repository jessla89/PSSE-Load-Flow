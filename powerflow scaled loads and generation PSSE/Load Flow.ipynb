{
 "cells": [
  {
   "cell_type": "markdown",
   "id": "87995c7f-20eb-4615-abc4-1143886225ee",
   "metadata": {},
   "source": [
    "## Power Flow Analysis For Various Load Demands"
   ]
  },
  {
   "cell_type": "markdown",
   "id": "eeabf698-af15-42a3-9b0c-6c25899a4cc6",
   "metadata": {},
   "source": [
    "#### Using PSS/E scale bus load activity"
   ]
  },
  {
   "cell_type": "markdown",
   "id": "447a5668-73bd-47cf-8c5f-741d69ea4cbc",
   "metadata": {
    "tags": []
   },
   "source": [
    "Load flow analysis for various demands were conducted by making use of the SCAL activity of PSS/E. The load flow cases considered and corresponding Gen MW are tabulated in the table below:"
   ]
  },
  {
   "cell_type": "markdown",
   "id": "66192aa4-9b2e-42ff-b6e6-2ba67bd851b3",
   "metadata": {},
   "source": [
    "| | Load MW | Gen MW | \n",
    "| --- | --- | --- |\n",
    "| 1 | 3200 | 3258.6 |\n",
    "| 2 | 3264 | 3324.8 |\n",
    "| 3 | 3329.3 | 3392.7 |\n",
    "| 4 | 3395.9 | 3462.4 |\n",
    "| 5 | 3463.8 | 3534.1|\n",
    "| 6 | 3533.1 | 3607.9 |\n",
    "| 7 | 3603.7 | 3684.0 |\n",
    "| 8 | 3675.7 | 3762.5 |\n",
    "| 9 | 3749.3 | 3843.7 |"
   ]
  },
  {
   "attachments": {
    "808ca580-56ca-4447-b87b-e3883183a304.png": {
     "image/png": "[encoded data removed]"
    }
   },
   "cell_type": "markdown",
   "id": "c973f889-ae03-42ca-ae40-49ef22bacc9b",
   "metadata": {},
   "source": [
    "![image.png](attachment:808ca580-56ca-4447-b87b-e3883183a304.png)"
   ]
  },
  {
   "cell_type": "markdown",
   "id": "1f6c6bcf-759b-49eb-a7b7-e6a6ff2694e4",
   "metadata": {},
   "source": [
    "Maximum Generating capacity of the system is 4153.25 MW. Load flow analysis is carried out for load MW ranging from 3200 MW to 3749.3 MW. "
   ]
  },
  {
   "cell_type": "markdown",
   "id": "bf5365ee-9f42-4642-ac3c-0eac8f078608",
   "metadata": {
    "tags": []
   },
   "source": [
    "Network results obtained using LOUT activity were saved into a csv file for further analysis. The analysis of the LOUT results were carried out separately and the combined results were saved as a csv file 'Load Flow.csv' for completing the analysis."
   ]
  },
  {
   "cell_type": "code",
   "execution_count": 19,
   "id": "96c288cb-353d-47b0-b24a-64f77646f8a1",
   "metadata": {},
   "outputs": [],
   "source": [
    "import pandas as pd\n",
    "import altair as alt"
   ]
  },
  {
   "cell_type": "code",
   "execution_count": 20,
   "id": "6e5f4ecb-0220-4f46-ab0b-8a2ec0edd577",
   "metadata": {},
   "outputs": [],
   "source": [
    "data_load_flow = pd.read_csv('Load Flow.csv')"
   ]
  },
  {
   "cell_type": "code",
   "execution_count": 21,
   "id": "8899cf68-03c7-4731-9261-229088a1ef84",
   "metadata": {},
   "outputs": [],
   "source": [
    "data_load_flow = data_load_flow.drop(columns = ['Unnamed: 0'])"
   ]
  },
  {
   "cell_type": "code",
   "execution_count": 22,
   "id": "55c86a06-2895-4116-9f16-0f23b064d755",
   "metadata": {},
   "outputs": [],
   "source": [
    "data_analysis = data_load_flow.assign(Load = data_load_flow['Load Flow Case'].str.split(',', expand=True)[0])"
   ]
  },
  {
   "cell_type": "code",
   "execution_count": 27,
   "id": "474a87ba-da02-4ba9-b600-5bcb6e73dce2",
   "metadata": {},
   "outputs": [
    {
     "data": {
      "text/html": [
       "<div>\n",
       "<style scoped>\n",
       "    .dataframe tbody tr th:only-of-type {\n",
       "        vertical-align: middle;\n",
       "    }\n",
       "\n",
       "    .dataframe tbody tr th {\n",
       "        vertical-align: top;\n",
       "    }\n",
       "\n",
       "    .dataframe thead th {\n",
       "        text-align: right;\n",
       "    }\n",
       "</style>\n",
       "<table border=\"1\" class=\"dataframe\">\n",
       "  <thead>\n",
       "    <tr style=\"text-align: right;\">\n",
       "      <th></th>\n",
       "      <th>Bus Name</th>\n",
       "      <th>Area Number</th>\n",
       "      <th>Zone Number</th>\n",
       "      <th>Volt (PU)</th>\n",
       "      <th>Volt (KV)</th>\n",
       "      <th>Angle (Deg)</th>\n",
       "      <th>Gen MW</th>\n",
       "      <th>Gen MVAR</th>\n",
       "      <th>Load MW</th>\n",
       "      <th>Load MVAR</th>\n",
       "      <th>...</th>\n",
       "      <th>Shunt MVAR</th>\n",
       "      <th>To Bus Name</th>\n",
       "      <th>MW</th>\n",
       "      <th>MVAR</th>\n",
       "      <th>Transformer Ratio</th>\n",
       "      <th>Transformer Angle (Deg)</th>\n",
       "      <th>Percent</th>\n",
       "      <th>Rating</th>\n",
       "      <th>Load Flow Case</th>\n",
       "      <th>Load</th>\n",
       "    </tr>\n",
       "  </thead>\n",
       "  <tbody>\n",
       "    <tr>\n",
       "      <th>0</th>\n",
       "      <td>101     NUC-A       21.600</td>\n",
       "      <td>1</td>\n",
       "      <td>77</td>\n",
       "      <td>1.0200</td>\n",
       "      <td>22.0320</td>\n",
       "      <td>16.5463</td>\n",
       "      <td>750.0</td>\n",
       "      <td>81.3072</td>\n",
       "      <td>0.0</td>\n",
       "      <td>0.0</td>\n",
       "      <td>...</td>\n",
       "      <td>-0.0000</td>\n",
       "      <td>NaN</td>\n",
       "      <td>0.0000</td>\n",
       "      <td>0.0000</td>\n",
       "      <td>NaN</td>\n",
       "      <td>0.0</td>\n",
       "      <td>0</td>\n",
       "      <td>NaN</td>\n",
       "      <td>Load-MW = 3200, Gen-MW = 3258.64, Reactors-Mva...</td>\n",
       "      <td>Load-MW = 3200</td>\n",
       "    </tr>\n",
       "    <tr>\n",
       "      <th>1</th>\n",
       "      <td>101     NUC-A       21.600</td>\n",
       "      <td>0</td>\n",
       "      <td>0</td>\n",
       "      <td>0.0000</td>\n",
       "      <td>0.0000</td>\n",
       "      <td>0.0000</td>\n",
       "      <td>0.0</td>\n",
       "      <td>0.0000</td>\n",
       "      <td>0.0</td>\n",
       "      <td>0.0</td>\n",
       "      <td>...</td>\n",
       "      <td>0.0000</td>\n",
       "      <td>151     NUCPANT     500.00    1  1</td>\n",
       "      <td>750.0001</td>\n",
       "      <td>81.3072</td>\n",
       "      <td>1.000UN</td>\n",
       "      <td>0.0</td>\n",
       "      <td>60</td>\n",
       "      <td>1250.0</td>\n",
       "      <td>Load-MW = 3200, Gen-MW = 3258.64, Reactors-Mva...</td>\n",
       "      <td>Load-MW = 3200</td>\n",
       "    </tr>\n",
       "    <tr>\n",
       "      <th>2</th>\n",
       "      <td>102     NUC-B       21.600</td>\n",
       "      <td>1</td>\n",
       "      <td>77</td>\n",
       "      <td>1.0200</td>\n",
       "      <td>22.0320</td>\n",
       "      <td>16.5463</td>\n",
       "      <td>750.0</td>\n",
       "      <td>81.3072</td>\n",
       "      <td>0.0</td>\n",
       "      <td>0.0</td>\n",
       "      <td>...</td>\n",
       "      <td>-0.0000</td>\n",
       "      <td>NaN</td>\n",
       "      <td>0.0000</td>\n",
       "      <td>0.0000</td>\n",
       "      <td>NaN</td>\n",
       "      <td>0.0</td>\n",
       "      <td>0</td>\n",
       "      <td>NaN</td>\n",
       "      <td>Load-MW = 3200, Gen-MW = 3258.64, Reactors-Mva...</td>\n",
       "      <td>Load-MW = 3200</td>\n",
       "    </tr>\n",
       "    <tr>\n",
       "      <th>3</th>\n",
       "      <td>102     NUC-B       21.600</td>\n",
       "      <td>0</td>\n",
       "      <td>0</td>\n",
       "      <td>0.0000</td>\n",
       "      <td>0.0000</td>\n",
       "      <td>0.0000</td>\n",
       "      <td>0.0</td>\n",
       "      <td>0.0000</td>\n",
       "      <td>0.0</td>\n",
       "      <td>0.0</td>\n",
       "      <td>...</td>\n",
       "      <td>0.0000</td>\n",
       "      <td>151     NUCPANT     500.00    1  1</td>\n",
       "      <td>750.0001</td>\n",
       "      <td>81.3072</td>\n",
       "      <td>1.000UN</td>\n",
       "      <td>0.0</td>\n",
       "      <td>60</td>\n",
       "      <td>1250.0</td>\n",
       "      <td>Load-MW = 3200, Gen-MW = 3258.64, Reactors-Mva...</td>\n",
       "      <td>Load-MW = 3200</td>\n",
       "    </tr>\n",
       "    <tr>\n",
       "      <th>4</th>\n",
       "      <td>151     NUCPANT     500.00</td>\n",
       "      <td>1</td>\n",
       "      <td>1</td>\n",
       "      <td>1.0119</td>\n",
       "      <td>505.9414</td>\n",
       "      <td>10.8884</td>\n",
       "      <td>0.0</td>\n",
       "      <td>0.0000</td>\n",
       "      <td>0.0</td>\n",
       "      <td>0.0</td>\n",
       "      <td>...</td>\n",
       "      <td>614.3441</td>\n",
       "      <td>NaN</td>\n",
       "      <td>0.0000</td>\n",
       "      <td>0.0000</td>\n",
       "      <td>NaN</td>\n",
       "      <td>0.0</td>\n",
       "      <td>0</td>\n",
       "      <td>NaN</td>\n",
       "      <td>Load-MW = 3200, Gen-MW = 3258.64, Reactors-Mva...</td>\n",
       "      <td>Load-MW = 3200</td>\n",
       "    </tr>\n",
       "  </tbody>\n",
       "</table>\n",
       "<p>5 rows × 21 columns</p>\n",
       "</div>"
      ],
      "text/plain": [
       "                     Bus Name  Area Number  Zone Number  Volt (PU)  Volt (KV)  \\\n",
       "0  101     NUC-A       21.600            1           77     1.0200    22.0320   \n",
       "1  101     NUC-A       21.600            0            0     0.0000     0.0000   \n",
       "2  102     NUC-B       21.600            1           77     1.0200    22.0320   \n",
       "3  102     NUC-B       21.600            0            0     0.0000     0.0000   \n",
       "4  151     NUCPANT     500.00            1            1     1.0119   505.9414   \n",
       "\n",
       "   Angle (Deg)  Gen MW  Gen MVAR  Load MW  Load MVAR  ...  Shunt MVAR  \\\n",
       "0      16.5463   750.0   81.3072      0.0        0.0  ...     -0.0000   \n",
       "1       0.0000     0.0    0.0000      0.0        0.0  ...      0.0000   \n",
       "2      16.5463   750.0   81.3072      0.0        0.0  ...     -0.0000   \n",
       "3       0.0000     0.0    0.0000      0.0        0.0  ...      0.0000   \n",
       "4      10.8884     0.0    0.0000      0.0        0.0  ...    614.3441   \n",
       "\n",
       "                          To Bus Name        MW     MVAR  Transformer Ratio  \\\n",
       "0                                 NaN    0.0000   0.0000                NaN   \n",
       "1  151     NUCPANT     500.00    1  1  750.0001  81.3072            1.000UN   \n",
       "2                                 NaN    0.0000   0.0000                NaN   \n",
       "3  151     NUCPANT     500.00    1  1  750.0001  81.3072            1.000UN   \n",
       "4                                 NaN    0.0000   0.0000                NaN   \n",
       "\n",
       "  Transformer Angle (Deg)  Percent  Rating  \\\n",
       "0                     0.0        0     NaN   \n",
       "1                     0.0       60  1250.0   \n",
       "2                     0.0        0     NaN   \n",
       "3                     0.0       60  1250.0   \n",
       "4                     0.0        0     NaN   \n",
       "\n",
       "                                      Load Flow Case            Load  \n",
       "0  Load-MW = 3200, Gen-MW = 3258.64, Reactors-Mva...  Load-MW = 3200  \n",
       "1  Load-MW = 3200, Gen-MW = 3258.64, Reactors-Mva...  Load-MW = 3200  \n",
       "2  Load-MW = 3200, Gen-MW = 3258.64, Reactors-Mva...  Load-MW = 3200  \n",
       "3  Load-MW = 3200, Gen-MW = 3258.64, Reactors-Mva...  Load-MW = 3200  \n",
       "4  Load-MW = 3200, Gen-MW = 3258.64, Reactors-Mva...  Load-MW = 3200  \n",
       "\n",
       "[5 rows x 21 columns]"
      ]
     },
     "execution_count": 27,
     "metadata": {},
     "output_type": "execute_result"
    }
   ],
   "source": [
    "data_analysis.head()"
   ]
  },
  {
   "cell_type": "markdown",
   "id": "1398d00c-dc24-4318-ba86-9341e384b138",
   "metadata": {},
   "source": [
    "\n",
    "All the bus names are given in the following list.\n"
   ]
  },
  {
   "cell_type": "code",
   "execution_count": 56,
   "id": "c146a844-028e-4a38-9960-a9c73133b76b",
   "metadata": {},
   "outputs": [],
   "source": [
    "Bus_Name = list(data_analysis['Bus Name'].unique())"
   ]
  },
  {
   "cell_type": "markdown",
   "id": "bbea9131-b491-446e-a7a2-d6f0466d0200",
   "metadata": {},
   "source": [
    "\n",
    "A function is defined to get MW flow from the chosen bus\n"
   ]
  },
  {
   "cell_type": "code",
   "execution_count": 38,
   "id": "1bfc2976-c5aa-4c03-afa4-ec7fe575b174",
   "metadata": {},
   "outputs": [],
   "source": [
    "def display_MW_from_bus(df, bus_name):\n",
    "    df_ans = df[(df['Bus Name'] == bus_name) & (~df['To Bus Name'].isnull())]\n",
    "    chart = alt.Chart(df_ans, title = bus_name).mark_bar().encode(\n",
    "        alt.Y('Load', title=''),\n",
    "        alt.X('MW', title=''),\n",
    "        alt.Color('Load'),\n",
    "        tooltip = ['Bus Name', 'To Bus Name','MW']).properties(width=300, height=300).facet('To Bus Name', columns=1).resolve_scale(x='independent')  \n",
    "    return chart"
   ]
  },
  {
   "cell_type": "markdown",
   "id": "0b5bbb69-9190-40d5-b9e2-faea3bec18b5",
   "metadata": {},
   "source": [
    "\n",
    "For example the MW flow from the bus '151     NUCPANT     500.00' is plotted using the function as shown below. Hover over the bar charts to get the flow value \n"
   ]
  },
  {
   "cell_type": "code",
   "execution_count": 43,
   "id": "64780f6c-0287-42c8-a62e-25c26f8c3ce5",
   "metadata": {},
   "outputs": [
    {
     "data": {
      "text/html": [
       "\n",
       "<style>\n",
       "  #altair-viz-25fea5e996bb41839410501f4e0d36ef.vega-embed {\n",
       "    width: 100%;\n",
       "    display: flex;\n",
       "  }\n",
       "\n",
       "  #altair-viz-25fea5e996bb41839410501f4e0d36ef.vega-embed details,\n",
       "  #altair-viz-25fea5e996bb41839410501f4e0d36ef.vega-embed details summary {\n",
       "    position: relative;\n",
       "  }\n",
       "</style>\n",
       "<div id=\"altair-viz-25fea5e996bb41839410501f4e0d36ef\"></div>\n",
       "<script type=\"text/javascript\">\n",
       "  var VEGA_DEBUG = (typeof VEGA_DEBUG == \"undefined\") ? {} : VEGA_DEBUG;\n",
       "  (function(spec, embedOpt){\n",
       "    let outputDiv = document.currentScript.previousElementSibling;\n",
       "    if (outputDiv.id !== \"altair-viz-25fea5e996bb41839410501f4e0d36ef\") {\n",
       "      outputDiv = document.getElementById(\"altair-viz-25fea5e996bb41839410501f4e0d36ef\");\n",
       "    }\n",
       "    const paths = {\n",
       "      \"vega\": \"https://cdn.jsdelivr.net/npm/vega@5?noext\",\n",
       "      \"vega-lib\": \"https://cdn.jsdelivr.net/npm/vega-lib?noext\",\n",
       "      \"vega-lite\": \"https://cdn.jsdelivr.net/npm/vega-lite@5.20.1?noext\",\n",
       "      \"vega-embed\": \"https://cdn.jsdelivr.net/npm/vega-embed@6?noext\",\n",
       "    };\n",
       "\n",
       "    function maybeLoadScript(lib, version) {\n",
       "      var key = `${lib.replace(\"-\", \"\")}_version`;\n",
       "      return (VEGA_DEBUG[key] == version) ?\n",
       "        Promise.resolve(paths[lib]) :\n",
       "        new Promise(function(resolve, reject) {\n",
       "          var s = document.createElement('script');\n",
       "          document.getElementsByTagName(\"head\")[0].appendChild(s);\n",
       "          s.async = true;\n",
       "          s.onload = () => {\n",
       "            VEGA_DEBUG[key] = version;\n",
       "            return resolve(paths[lib]);\n",
       "          };\n",
       "          s.onerror = () => reject(`Error loading script: ${paths[lib]}`);\n",
       "          s.src = paths[lib];\n",
       "        });\n",
       "    }\n",
       "\n",
       "    function showError(err) {\n",
       "      outputDiv.innerHTML = `<div class=\"error\" style=\"color:red;\">${err}</div>`;\n",
       "      throw err;\n",
       "    }\n",
       "\n",
       "    function displayChart(vegaEmbed) {\n",
       "      vegaEmbed(outputDiv, spec, embedOpt)\n",
       "        .catch(err => showError(`Javascript Error: ${err.message}<br>This usually means there's a typo in your chart specification. See the javascript console for the full traceback.`));\n",
       "    }\n",
       "\n",
       "    if(typeof define === \"function\" && define.amd) {\n",
       "      requirejs.config({paths});\n",
       "      require([\"vega-embed\"], displayChart, err => showError(`Error loading script: ${err.message}`));\n",
       "    } else {\n",
       "      maybeLoadScript(\"vega\", \"5\")\n",
       "        .then(() => maybeLoadScript(\"vega-lite\", \"5.20.1\"))\n",
       "        .then(() => maybeLoadScript(\"vega-embed\", \"6\"))\n",
       "        .catch(showError)\n",
       "        .then(() => displayChart(vegaEmbed));\n",
       "    }\n",
       "  })({\"config\": {\"view\": {\"continuousWidth\": 300, \"continuousHeight\": 300}}, \"data\": {\"name\": \"data-1b5b08a13cd67f1bda7239b28f0ba6de\"}, \"facet\": {\"field\": \"To Bus Name\", \"type\": \"nominal\"}, \"spec\": {\"mark\": {\"type\": \"bar\"}, \"encoding\": {\"color\": {\"field\": \"Load\", \"type\": \"nominal\"}, \"tooltip\": [{\"field\": \"Bus Name\", \"type\": \"nominal\"}, {\"field\": \"To Bus Name\", \"type\": \"nominal\"}, {\"field\": \"MW\", \"type\": \"quantitative\"}], \"x\": {\"field\": \"MW\", \"title\": \"\", \"type\": \"quantitative\"}, \"y\": {\"field\": \"Load\", \"title\": \"\", \"type\": \"nominal\"}}, \"height\": 300, \"title\": \"151     NUCPANT     500.00\", \"width\": 300}, \"columns\": 1, \"resolve\": {\"scale\": {\"x\": \"independent\"}}, \"$schema\": \"https://vega.github.io/schema/vega-lite/v5.20.1.json\", \"datasets\": {\"data-1b5b08a13cd67f1bda7239b28f0ba6de\": [{\"Bus Name\": \"151     NUCPANT     500.00\", \"Area Number\": 0, \"Zone Number\": 0, \"Volt (PU)\": 0.0, \"Volt (KV)\": 0.0, \"Angle (Deg)\": 0.0, \"Gen MW\": 0.0, \"Gen MVAR\": 0.0, \"Load MW\": 0.0, \"Load MVAR\": 0.0, \"Shunt MW\": 0.0, \"Shunt MVAR\": 0.0, \"To Bus Name\": \"101     NUC-A       21.600    1  1\", \"MW\": -748.3591, \"MVAR\": -6.9136, \"Transformer Ratio\": \"1.000LK\", \"Transformer Angle (Deg)\": 0.0, \"Percent\": 60, \"Rating\": 1250.0, \"Load Flow Case\": \"Load-MW = 3200, Gen-MW = 3258.64, Reactors-Mvar = 600, Capacitors-Mvar = 950, Load-Mvar = 1950\", \"Load\": \"Load-MW = 3200\"}, {\"Bus Name\": \"151     NUCPANT     500.00\", \"Area Number\": 0, \"Zone Number\": 0, \"Volt (PU)\": 0.0, \"Volt (KV)\": 0.0, \"Angle (Deg)\": 0.0, \"Gen MW\": 0.0, \"Gen MVAR\": 0.0, \"Load MW\": 0.0, \"Load MVAR\": 0.0, \"Shunt MW\": 0.0, \"Shunt MVAR\": 0.0, \"To Bus Name\": \"102     NUC-B       21.600    1  1\", \"MW\": -748.3591, \"MVAR\": -6.9136, \"Transformer Ratio\": \"1.000LK\", \"Transformer Angle (Deg)\": 0.0, \"Percent\": 60, \"Rating\": 1250.0, \"Load Flow Case\": \"Load-MW = 3200, Gen-MW = 3258.64, Reactors-Mvar = 600, Capacitors-Mvar = 950, Load-Mvar = 1950\", \"Load\": \"Load-MW = 3200\"}, {\"Bus Name\": \"151     NUCPANT     500.00\", \"Area Number\": 0, \"Zone Number\": 0, \"Volt (PU)\": 0.0, \"Volt (KV)\": 0.0, \"Angle (Deg)\": 0.0, \"Gen MW\": 0.0, \"Gen MVAR\": 0.0, \"Load MW\": 0.0, \"Load MVAR\": 0.0, \"Shunt MW\": 0.0, \"Shunt MVAR\": 0.0, \"To Bus Name\": \"152     MID500      500.00    1  1\", \"MW\": 465.9492, \"MVAR\": -167.8173, \"Transformer Ratio\": null, \"Transformer Angle (Deg)\": 0.0, \"Percent\": 41, \"Rating\": 1200.0, \"Load Flow Case\": \"Load-MW = 3200, Gen-MW = 3258.64, Reactors-Mvar = 600, Capacitors-Mvar = 950, Load-Mvar = 1950\", \"Load\": \"Load-MW = 3200\"}, {\"Bus Name\": \"151     NUCPANT     500.00\", \"Area Number\": 0, \"Zone Number\": 0, \"Volt (PU)\": 0.0, \"Volt (KV)\": 0.0, \"Angle (Deg)\": 0.0, \"Gen MW\": 0.0, \"Gen MVAR\": 0.0, \"Load MW\": 0.0, \"Load MVAR\": 0.0, \"Shunt MW\": 0.0, \"Shunt MVAR\": 0.0, \"To Bus Name\": \"152     MID500      500.00    1  2\", \"MW\": 465.9492, \"MVAR\": -167.8173, \"Transformer Ratio\": null, \"Transformer Angle (Deg)\": 0.0, \"Percent\": 41, \"Rating\": 1200.0, \"Load Flow Case\": \"Load-MW = 3200, Gen-MW = 3258.64, Reactors-Mvar = 600, Capacitors-Mvar = 950, Load-Mvar = 1950\", \"Load\": \"Load-MW = 3200\"}, {\"Bus Name\": \"151     NUCPANT     500.00\", \"Area Number\": 0, \"Zone Number\": 0, \"Volt (PU)\": 0.0, \"Volt (KV)\": 0.0, \"Angle (Deg)\": 0.0, \"Gen MW\": 0.0, \"Gen MVAR\": 0.0, \"Load MW\": 0.0, \"Load MVAR\": 0.0, \"Shunt MW\": 0.0, \"Shunt MVAR\": 0.0, \"To Bus Name\": \"201     HYDRO       500.00    2  1\", \"MW\": 564.8212, \"MVAR\": -264.8822, \"Transformer Ratio\": null, \"Transformer Angle (Deg)\": 0.0, \"Percent\": 51, \"Rating\": 1200.0, \"Load Flow Case\": \"Load-MW = 3200, Gen-MW = 3258.64, Reactors-Mvar = 600, Capacitors-Mvar = 950, Load-Mvar = 1950\", \"Load\": \"Load-MW = 3200\"}, {\"Bus Name\": \"151     NUCPANT     500.00\", \"Area Number\": 0, \"Zone Number\": 0, \"Volt (PU)\": 0.0, \"Volt (KV)\": 0.0, \"Angle (Deg)\": 0.0, \"Gen MW\": 0.0, \"Gen MVAR\": 0.0, \"Load MW\": 0.0, \"Load MVAR\": 0.0, \"Shunt MW\": 0.0, \"Shunt MVAR\": 0.0, \"To Bus Name\": \"101     NUC-A       21.600    1  1\", \"MW\": -748.3572, \"MVAR\": -9.7052, \"Transformer Ratio\": \"1.000LK\", \"Transformer Angle (Deg)\": 0.0, \"Percent\": 60, \"Rating\": 1250.0, \"Load Flow Case\": \"Load-MW = 3264, Gen-MW = 3324.8, Reactors-Mvar = 600, Capacitors-Mvar = 950, Load-Mvar = 1950\", \"Load\": \"Load-MW = 3264\"}, {\"Bus Name\": \"151     NUCPANT     500.00\", \"Area Number\": 0, \"Zone Number\": 0, \"Volt (PU)\": 0.0, \"Volt (KV)\": 0.0, \"Angle (Deg)\": 0.0, \"Gen MW\": 0.0, \"Gen MVAR\": 0.0, \"Load MW\": 0.0, \"Load MVAR\": 0.0, \"Shunt MW\": 0.0, \"Shunt MVAR\": 0.0, \"To Bus Name\": \"102     NUC-B       21.600    1  1\", \"MW\": -748.3572, \"MVAR\": -9.7052, \"Transformer Ratio\": \"1.000LK\", \"Transformer Angle (Deg)\": 0.0, \"Percent\": 60, \"Rating\": 1250.0, \"Load Flow Case\": \"Load-MW = 3264, Gen-MW = 3324.8, Reactors-Mvar = 600, Capacitors-Mvar = 950, Load-Mvar = 1950\", \"Load\": \"Load-MW = 3264\"}, {\"Bus Name\": \"151     NUCPANT     500.00\", \"Area Number\": 0, \"Zone Number\": 0, \"Volt (PU)\": 0.0, \"Volt (KV)\": 0.0, \"Angle (Deg)\": 0.0, \"Gen MW\": 0.0, \"Gen MVAR\": 0.0, \"Load MW\": 0.0, \"Load MVAR\": 0.0, \"Shunt MW\": 0.0, \"Shunt MVAR\": 0.0, \"To Bus Name\": \"152     MID500      500.00    1  1\", \"MW\": 463.2915, \"MVAR\": -163.6297, \"Transformer Ratio\": null, \"Transformer Angle (Deg)\": 0.0, \"Percent\": 40, \"Rating\": 1200.0, \"Load Flow Case\": \"Load-MW = 3264, Gen-MW = 3324.8, Reactors-Mvar = 600, Capacitors-Mvar = 950, Load-Mvar = 1950\", \"Load\": \"Load-MW = 3264\"}, {\"Bus Name\": \"151     NUCPANT     500.00\", \"Area Number\": 0, \"Zone Number\": 0, \"Volt (PU)\": 0.0, \"Volt (KV)\": 0.0, \"Angle (Deg)\": 0.0, \"Gen MW\": 0.0, \"Gen MVAR\": 0.0, \"Load MW\": 0.0, \"Load MVAR\": 0.0, \"Shunt MW\": 0.0, \"Shunt MVAR\": 0.0, \"To Bus Name\": \"152     MID500      500.00    1  2\", \"MW\": 463.2915, \"MVAR\": -163.6297, \"Transformer Ratio\": null, \"Transformer Angle (Deg)\": 0.0, \"Percent\": 40, \"Rating\": 1200.0, \"Load Flow Case\": \"Load-MW = 3264, Gen-MW = 3324.8, Reactors-Mvar = 600, Capacitors-Mvar = 950, Load-Mvar = 1950\", \"Load\": \"Load-MW = 3264\"}, {\"Bus Name\": \"151     NUCPANT     500.00\", \"Area Number\": 0, \"Zone Number\": 0, \"Volt (PU)\": 0.0, \"Volt (KV)\": 0.0, \"Angle (Deg)\": 0.0, \"Gen MW\": 0.0, \"Gen MVAR\": 0.0, \"Load MW\": 0.0, \"Load MVAR\": 0.0, \"Shunt MW\": 0.0, \"Shunt MVAR\": 0.0, \"To Bus Name\": \"201     HYDRO       500.00    2  1\", \"MW\": 570.1284, \"MVAR\": -267.2138, \"Transformer Ratio\": null, \"Transformer Angle (Deg)\": 0.0, \"Percent\": 52, \"Rating\": 1200.0, \"Load Flow Case\": \"Load-MW = 3264, Gen-MW = 3324.8, Reactors-Mvar = 600, Capacitors-Mvar = 950, Load-Mvar = 1950\", \"Load\": \"Load-MW = 3264\"}, {\"Bus Name\": \"151     NUCPANT     500.00\", \"Area Number\": 0, \"Zone Number\": 0, \"Volt (PU)\": 0.0, \"Volt (KV)\": 0.0, \"Angle (Deg)\": 0.0, \"Gen MW\": 0.0, \"Gen MVAR\": 0.0, \"Load MW\": 0.0, \"Load MVAR\": 0.0, \"Shunt MW\": 0.0, \"Shunt MVAR\": 0.0, \"To Bus Name\": \"101     NUC-A       21.600    1  1\", \"MW\": -748.3554, \"MVAR\": -13.0247, \"Transformer Ratio\": \"1.000LK\", \"Transformer Angle (Deg)\": 0.0, \"Percent\": 60, \"Rating\": 1250.0, \"Load Flow Case\": \"Load-MW = 3329.3, Gen-MW = 3392.7, Reactors-Mvar = 600, Capacitors-Mvar = 950, Load-Mvar = 1950\", \"Load\": \"Load-MW = 3329.3\"}, {\"Bus Name\": \"151     NUCPANT     500.00\", \"Area Number\": 0, \"Zone Number\": 0, \"Volt (PU)\": 0.0, \"Volt (KV)\": 0.0, \"Angle (Deg)\": 0.0, \"Gen MW\": 0.0, \"Gen MVAR\": 0.0, \"Load MW\": 0.0, \"Load MVAR\": 0.0, \"Shunt MW\": 0.0, \"Shunt MVAR\": 0.0, \"To Bus Name\": \"102     NUC-B       21.600    1  1\", \"MW\": -748.3554, \"MVAR\": -13.0247, \"Transformer Ratio\": \"1.000LK\", \"Transformer Angle (Deg)\": 0.0, \"Percent\": 60, \"Rating\": 1250.0, \"Load Flow Case\": \"Load-MW = 3329.3, Gen-MW = 3392.7, Reactors-Mvar = 600, Capacitors-Mvar = 950, Load-Mvar = 1950\", \"Load\": \"Load-MW = 3329.3\"}, {\"Bus Name\": \"151     NUCPANT     500.00\", \"Area Number\": 0, \"Zone Number\": 0, \"Volt (PU)\": 0.0, \"Volt (KV)\": 0.0, \"Angle (Deg)\": 0.0, \"Gen MW\": 0.0, \"Gen MVAR\": 0.0, \"Load MW\": 0.0, \"Load MVAR\": 0.0, \"Shunt MW\": 0.0, \"Shunt MVAR\": 0.0, \"To Bus Name\": \"152     MID500      500.00    1  1\", \"MW\": 460.5004, \"MVAR\": -158.6465, \"Transformer Ratio\": null, \"Transformer Angle (Deg)\": 0.0, \"Percent\": 40, \"Rating\": 1200.0, \"Load Flow Case\": \"Load-MW = 3329.3, Gen-MW = 3392.7, Reactors-Mvar = 600, Capacitors-Mvar = 950, Load-Mvar = 1950\", \"Load\": \"Load-MW = 3329.3\"}, {\"Bus Name\": \"151     NUCPANT     500.00\", \"Area Number\": 0, \"Zone Number\": 0, \"Volt (PU)\": 0.0, \"Volt (KV)\": 0.0, \"Angle (Deg)\": 0.0, \"Gen MW\": 0.0, \"Gen MVAR\": 0.0, \"Load MW\": 0.0, \"Load MVAR\": 0.0, \"Shunt MW\": 0.0, \"Shunt MVAR\": 0.0, \"To Bus Name\": \"152     MID500      500.00    1  2\", \"MW\": 460.5004, \"MVAR\": -158.6465, \"Transformer Ratio\": null, \"Transformer Angle (Deg)\": 0.0, \"Percent\": 40, \"Rating\": 1200.0, \"Load Flow Case\": \"Load-MW = 3329.3, Gen-MW = 3392.7, Reactors-Mvar = 600, Capacitors-Mvar = 950, Load-Mvar = 1950\", \"Load\": \"Load-MW = 3329.3\"}, {\"Bus Name\": \"151     NUCPANT     500.00\", \"Area Number\": 0, \"Zone Number\": 0, \"Volt (PU)\": 0.0, \"Volt (KV)\": 0.0, \"Angle (Deg)\": 0.0, \"Gen MW\": 0.0, \"Gen MVAR\": 0.0, \"Load MW\": 0.0, \"Load MVAR\": 0.0, \"Shunt MW\": 0.0, \"Shunt MVAR\": 0.0, \"To Bus Name\": \"201     HYDRO       500.00    2  1\", \"MW\": 575.706, \"MVAR\": -269.9933, \"Transformer Ratio\": null, \"Transformer Angle (Deg)\": 0.0, \"Percent\": 52, \"Rating\": 1200.0, \"Load Flow Case\": \"Load-MW = 3329.3, Gen-MW = 3392.7, Reactors-Mvar = 600, Capacitors-Mvar = 950, Load-Mvar = 1950\", \"Load\": \"Load-MW = 3329.3\"}, {\"Bus Name\": \"151     NUCPANT     500.00\", \"Area Number\": 0, \"Zone Number\": 0, \"Volt (PU)\": 0.0, \"Volt (KV)\": 0.0, \"Angle (Deg)\": 0.0, \"Gen MW\": 0.0, \"Gen MVAR\": 0.0, \"Load MW\": 0.0, \"Load MVAR\": 0.0, \"Shunt MW\": 0.0, \"Shunt MVAR\": 0.0, \"To Bus Name\": \"101     NUC-A       21.600    1  1\", \"MW\": -748.3532, \"MVAR\": -16.9377, \"Transformer Ratio\": \"1.000LK\", \"Transformer Angle (Deg)\": 0.0, \"Percent\": 60, \"Rating\": 1250.0, \"Load Flow Case\": \"Load-MW = 3395.9, Gen-MW = 3462.4, Reactors-Mvar = 600, Capacitors-Mvar = 950, Load-Mvar = 1950\", \"Load\": \"Load-MW = 3395.9\"}, {\"Bus Name\": \"151     NUCPANT     500.00\", \"Area Number\": 0, \"Zone Number\": 0, \"Volt (PU)\": 0.0, \"Volt (KV)\": 0.0, \"Angle (Deg)\": 0.0, \"Gen MW\": 0.0, \"Gen MVAR\": 0.0, \"Load MW\": 0.0, \"Load MVAR\": 0.0, \"Shunt MW\": 0.0, \"Shunt MVAR\": 0.0, \"To Bus Name\": \"102     NUC-B       21.600    1  1\", \"MW\": -748.3532, \"MVAR\": -16.9377, \"Transformer Ratio\": \"1.000LK\", \"Transformer Angle (Deg)\": 0.0, \"Percent\": 60, \"Rating\": 1250.0, \"Load Flow Case\": \"Load-MW = 3395.9, Gen-MW = 3462.4, Reactors-Mvar = 600, Capacitors-Mvar = 950, Load-Mvar = 1950\", \"Load\": \"Load-MW = 3395.9\"}, {\"Bus Name\": \"151     NUCPANT     500.00\", \"Area Number\": 0, \"Zone Number\": 0, \"Volt (PU)\": 0.0, \"Volt (KV)\": 0.0, \"Angle (Deg)\": 0.0, \"Gen MW\": 0.0, \"Gen MVAR\": 0.0, \"Load MW\": 0.0, \"Load MVAR\": 0.0, \"Shunt MW\": 0.0, \"Shunt MVAR\": 0.0, \"To Bus Name\": \"152     MID500      500.00    1  1\", \"MW\": 457.558, \"MVAR\": -152.7691, \"Transformer Ratio\": null, \"Transformer Angle (Deg)\": 0.0, \"Percent\": 40, \"Rating\": 1200.0, \"Load Flow Case\": \"Load-MW = 3395.9, Gen-MW = 3462.4, Reactors-Mvar = 600, Capacitors-Mvar = 950, Load-Mvar = 1950\", \"Load\": \"Load-MW = 3395.9\"}, {\"Bus Name\": \"151     NUCPANT     500.00\", \"Area Number\": 0, \"Zone Number\": 0, \"Volt (PU)\": 0.0, \"Volt (KV)\": 0.0, \"Angle (Deg)\": 0.0, \"Gen MW\": 0.0, \"Gen MVAR\": 0.0, \"Load MW\": 0.0, \"Load MVAR\": 0.0, \"Shunt MW\": 0.0, \"Shunt MVAR\": 0.0, \"To Bus Name\": \"152     MID500      500.00    1  2\", \"MW\": 457.558, \"MVAR\": -152.7691, \"Transformer Ratio\": null, \"Transformer Angle (Deg)\": 0.0, \"Percent\": 40, \"Rating\": 1200.0, \"Load Flow Case\": \"Load-MW = 3395.9, Gen-MW = 3462.4, Reactors-Mvar = 600, Capacitors-Mvar = 950, Load-Mvar = 1950\", \"Load\": \"Load-MW = 3395.9\"}, {\"Bus Name\": \"151     NUCPANT     500.00\", \"Area Number\": 0, \"Zone Number\": 0, \"Volt (PU)\": 0.0, \"Volt (KV)\": 0.0, \"Angle (Deg)\": 0.0, \"Gen MW\": 0.0, \"Gen MVAR\": 0.0, \"Load MW\": 0.0, \"Load MVAR\": 0.0, \"Shunt MW\": 0.0, \"Shunt MVAR\": 0.0, \"To Bus Name\": \"201     HYDRO       500.00    2  1\", \"MW\": 581.585, \"MVAR\": -273.2759, \"Transformer Ratio\": null, \"Transformer Angle (Deg)\": 0.0, \"Percent\": 53, \"Rating\": 1200.0, \"Load Flow Case\": \"Load-MW = 3395.9, Gen-MW = 3462.4, Reactors-Mvar = 600, Capacitors-Mvar = 950, Load-Mvar = 1950\", \"Load\": \"Load-MW = 3395.9\"}, {\"Bus Name\": \"151     NUCPANT     500.00\", \"Area Number\": 0, \"Zone Number\": 0, \"Volt (PU)\": 0.0, \"Volt (KV)\": 0.0, \"Angle (Deg)\": 0.0, \"Gen MW\": 0.0, \"Gen MVAR\": 0.0, \"Load MW\": 0.0, \"Load MVAR\": 0.0, \"Shunt MW\": 0.0, \"Shunt MVAR\": 0.0, \"To Bus Name\": \"101     NUC-A       21.600    1  1\", \"MW\": -748.3505, \"MVAR\": -21.5308, \"Transformer Ratio\": \"1.000LK\", \"Transformer Angle (Deg)\": 0.0, \"Percent\": 60, \"Rating\": 1250.0, \"Load Flow Case\": \"Load-MW = 3463.8, Gen-MW = 3534.1, Reactors-Mvar = 600, Capacitors-Mvar = 950, Load-Mvar = 1950\", \"Load\": \"Load-MW = 3463.8\"}, {\"Bus Name\": \"151     NUCPANT     500.00\", \"Area Number\": 0, \"Zone Number\": 0, \"Volt (PU)\": 0.0, \"Volt (KV)\": 0.0, \"Angle (Deg)\": 0.0, \"Gen MW\": 0.0, \"Gen MVAR\": 0.0, \"Load MW\": 0.0, \"Load MVAR\": 0.0, \"Shunt MW\": 0.0, \"Shunt MVAR\": 0.0, \"To Bus Name\": \"102     NUC-B       21.600    1  1\", \"MW\": -748.3505, \"MVAR\": -21.5308, \"Transformer Ratio\": \"1.000LK\", \"Transformer Angle (Deg)\": 0.0, \"Percent\": 60, \"Rating\": 1250.0, \"Load Flow Case\": \"Load-MW = 3463.8, Gen-MW = 3534.1, Reactors-Mvar = 600, Capacitors-Mvar = 950, Load-Mvar = 1950\", \"Load\": \"Load-MW = 3463.8\"}, {\"Bus Name\": \"151     NUCPANT     500.00\", \"Area Number\": 0, \"Zone Number\": 0, \"Volt (PU)\": 0.0, \"Volt (KV)\": 0.0, \"Angle (Deg)\": 0.0, \"Gen MW\": 0.0, \"Gen MVAR\": 0.0, \"Load MW\": 0.0, \"Load MVAR\": 0.0, \"Shunt MW\": 0.0, \"Shunt MVAR\": 0.0, \"To Bus Name\": \"152     MID500      500.00    1  1\", \"MW\": 454.4436, \"MVAR\": -145.8671, \"Transformer Ratio\": null, \"Transformer Angle (Deg)\": 0.0, \"Percent\": 39, \"Rating\": 1200.0, \"Load Flow Case\": \"Load-MW = 3463.8, Gen-MW = 3534.1, Reactors-Mvar = 600, Capacitors-Mvar = 950, Load-Mvar = 1950\", \"Load\": \"Load-MW = 3463.8\"}, {\"Bus Name\": \"151     NUCPANT     500.00\", \"Area Number\": 0, \"Zone Number\": 0, \"Volt (PU)\": 0.0, \"Volt (KV)\": 0.0, \"Angle (Deg)\": 0.0, \"Gen MW\": 0.0, \"Gen MVAR\": 0.0, \"Load MW\": 0.0, \"Load MVAR\": 0.0, \"Shunt MW\": 0.0, \"Shunt MVAR\": 0.0, \"To Bus Name\": \"152     MID500      500.00    1  2\", \"MW\": 454.4436, \"MVAR\": -145.8671, \"Transformer Ratio\": null, \"Transformer Angle (Deg)\": 0.0, \"Percent\": 39, \"Rating\": 1200.0, \"Load Flow Case\": \"Load-MW = 3463.8, Gen-MW = 3534.1, Reactors-Mvar = 600, Capacitors-Mvar = 950, Load-Mvar = 1950\", \"Load\": \"Load-MW = 3463.8\"}, {\"Bus Name\": \"151     NUCPANT     500.00\", \"Area Number\": 0, \"Zone Number\": 0, \"Volt (PU)\": 0.0, \"Volt (KV)\": 0.0, \"Angle (Deg)\": 0.0, \"Gen MW\": 0.0, \"Gen MVAR\": 0.0, \"Load MW\": 0.0, \"Load MVAR\": 0.0, \"Shunt MW\": 0.0, \"Shunt MVAR\": 0.0, \"To Bus Name\": \"201     HYDRO       500.00    2  1\", \"MW\": 587.8063, \"MVAR\": -277.1348, \"Transformer Ratio\": null, \"Transformer Angle (Deg)\": 0.0, \"Percent\": 54, \"Rating\": 1200.0, \"Load Flow Case\": \"Load-MW = 3463.8, Gen-MW = 3534.1, Reactors-Mvar = 600, Capacitors-Mvar = 950, Load-Mvar = 1950\", \"Load\": \"Load-MW = 3463.8\"}, {\"Bus Name\": \"151     NUCPANT     500.00\", \"Area Number\": 0, \"Zone Number\": 0, \"Volt (PU)\": 0.0, \"Volt (KV)\": 0.0, \"Angle (Deg)\": 0.0, \"Gen MW\": 0.0, \"Gen MVAR\": 0.0, \"Load MW\": 0.0, \"Load MVAR\": 0.0, \"Shunt MW\": 0.0, \"Shunt MVAR\": 0.0, \"To Bus Name\": \"101     NUC-A       21.600    1  1\", \"MW\": -748.3477, \"MVAR\": -26.9219, \"Transformer Ratio\": \"1.000LK\", \"Transformer Angle (Deg)\": 0.0, \"Percent\": 60, \"Rating\": 1250.0, \"Load Flow Case\": \"Load-MW = 3533.1, Gen-MW = 3607.9, Reactors-Mvar = 600, Capacitors-Mvar = 950, Load-Mvar = 1950\", \"Load\": \"Load-MW = 3533.1\"}, {\"Bus Name\": \"151     NUCPANT     500.00\", \"Area Number\": 0, \"Zone Number\": 0, \"Volt (PU)\": 0.0, \"Volt (KV)\": 0.0, \"Angle (Deg)\": 0.0, \"Gen MW\": 0.0, \"Gen MVAR\": 0.0, \"Load MW\": 0.0, \"Load MVAR\": 0.0, \"Shunt MW\": 0.0, \"Shunt MVAR\": 0.0, \"To Bus Name\": \"102     NUC-B       21.600    1  1\", \"MW\": -748.3477, \"MVAR\": -26.9219, \"Transformer Ratio\": \"1.000LK\", \"Transformer Angle (Deg)\": 0.0, \"Percent\": 60, \"Rating\": 1250.0, \"Load Flow Case\": \"Load-MW = 3533.1, Gen-MW = 3607.9, Reactors-Mvar = 600, Capacitors-Mvar = 950, Load-Mvar = 1950\", \"Load\": \"Load-MW = 3533.1\"}, {\"Bus Name\": \"151     NUCPANT     500.00\", \"Area Number\": 0, \"Zone Number\": 0, \"Volt (PU)\": 0.0, \"Volt (KV)\": 0.0, \"Angle (Deg)\": 0.0, \"Gen MW\": 0.0, \"Gen MVAR\": 0.0, \"Load MW\": 0.0, \"Load MVAR\": 0.0, \"Shunt MW\": 0.0, \"Shunt MVAR\": 0.0, \"To Bus Name\": \"152     MID500      500.00    1  1\", \"MW\": 451.1325, \"MVAR\": -137.763, \"Transformer Ratio\": null, \"Transformer Angle (Deg)\": 0.0, \"Percent\": 39, \"Rating\": 1200.0, \"Load Flow Case\": \"Load-MW = 3533.1, Gen-MW = 3607.9, Reactors-Mvar = 600, Capacitors-Mvar = 950, Load-Mvar = 1950\", \"Load\": \"Load-MW = 3533.1\"}, {\"Bus Name\": \"151     NUCPANT     500.00\", \"Area Number\": 0, \"Zone Number\": 0, \"Volt (PU)\": 0.0, \"Volt (KV)\": 0.0, \"Angle (Deg)\": 0.0, \"Gen MW\": 0.0, \"Gen MVAR\": 0.0, \"Load MW\": 0.0, \"Load MVAR\": 0.0, \"Shunt MW\": 0.0, \"Shunt MVAR\": 0.0, \"To Bus Name\": \"152     MID500      500.00    1  2\", \"MW\": 451.1325, \"MVAR\": -137.763, \"Transformer Ratio\": null, \"Transformer Angle (Deg)\": 0.0, \"Percent\": 39, \"Rating\": 1200.0, \"Load Flow Case\": \"Load-MW = 3533.1, Gen-MW = 3607.9, Reactors-Mvar = 600, Capacitors-Mvar = 950, Load-Mvar = 1950\", \"Load\": \"Load-MW = 3533.1\"}, {\"Bus Name\": \"151     NUCPANT     500.00\", \"Area Number\": 0, \"Zone Number\": 0, \"Volt (PU)\": 0.0, \"Volt (KV)\": 0.0, \"Angle (Deg)\": 0.0, \"Gen MW\": 0.0, \"Gen MVAR\": 0.0, \"Load MW\": 0.0, \"Load MVAR\": 0.0, \"Shunt MW\": 0.0, \"Shunt MVAR\": 0.0, \"To Bus Name\": \"201     HYDRO       500.00    2  1\", \"MW\": 594.4258, \"MVAR\": -281.6693, \"Transformer Ratio\": null, \"Transformer Angle (Deg)\": 0.0, \"Percent\": 54, \"Rating\": 1200.0, \"Load Flow Case\": \"Load-MW = 3533.1, Gen-MW = 3607.9, Reactors-Mvar = 600, Capacitors-Mvar = 950, Load-Mvar = 1950\", \"Load\": \"Load-MW = 3533.1\"}, {\"Bus Name\": \"151     NUCPANT     500.00\", \"Area Number\": 0, \"Zone Number\": 0, \"Volt (PU)\": 0.0, \"Volt (KV)\": 0.0, \"Angle (Deg)\": 0.0, \"Gen MW\": 0.0, \"Gen MVAR\": 0.0, \"Load MW\": 0.0, \"Load MVAR\": 0.0, \"Shunt MW\": 0.0, \"Shunt MVAR\": 0.0, \"To Bus Name\": \"101     NUC-A       21.600    1  1\", \"MW\": -748.3437, \"MVAR\": -33.2508, \"Transformer Ratio\": \"1.000LK\", \"Transformer Angle (Deg)\": 0.0, \"Percent\": 60, \"Rating\": 1250.0, \"Load Flow Case\": \"Load-MW = 3603.7, Gen-MW = 3684.0, Reactors-Mvar = 600, Capacitors-Mvar = 950, Load-Mvar = 1950\", \"Load\": \"Load-MW = 3603.7\"}, {\"Bus Name\": \"151     NUCPANT     500.00\", \"Area Number\": 0, \"Zone Number\": 0, \"Volt (PU)\": 0.0, \"Volt (KV)\": 0.0, \"Angle (Deg)\": 0.0, \"Gen MW\": 0.0, \"Gen MVAR\": 0.0, \"Load MW\": 0.0, \"Load MVAR\": 0.0, \"Shunt MW\": 0.0, \"Shunt MVAR\": 0.0, \"To Bus Name\": \"102     NUC-B       21.600    1  1\", \"MW\": -748.3437, \"MVAR\": -33.2508, \"Transformer Ratio\": \"1.000LK\", \"Transformer Angle (Deg)\": 0.0, \"Percent\": 60, \"Rating\": 1250.0, \"Load Flow Case\": \"Load-MW = 3603.7, Gen-MW = 3684.0, Reactors-Mvar = 600, Capacitors-Mvar = 950, Load-Mvar = 1950\", \"Load\": \"Load-MW = 3603.7\"}, {\"Bus Name\": \"151     NUCPANT     500.00\", \"Area Number\": 0, \"Zone Number\": 0, \"Volt (PU)\": 0.0, \"Volt (KV)\": 0.0, \"Angle (Deg)\": 0.0, \"Gen MW\": 0.0, \"Gen MVAR\": 0.0, \"Load MW\": 0.0, \"Load MVAR\": 0.0, \"Shunt MW\": 0.0, \"Shunt MVAR\": 0.0, \"To Bus Name\": \"152     MID500      500.00    1  1\", \"MW\": 447.5877, \"MVAR\": -128.2461, \"Transformer Ratio\": null, \"Transformer Angle (Deg)\": 0.0, \"Percent\": 38, \"Rating\": 1200.0, \"Load Flow Case\": \"Load-MW = 3603.7, Gen-MW = 3684.0, Reactors-Mvar = 600, Capacitors-Mvar = 950, Load-Mvar = 1950\", \"Load\": \"Load-MW = 3603.7\"}, {\"Bus Name\": \"151     NUCPANT     500.00\", \"Area Number\": 0, \"Zone Number\": 0, \"Volt (PU)\": 0.0, \"Volt (KV)\": 0.0, \"Angle (Deg)\": 0.0, \"Gen MW\": 0.0, \"Gen MVAR\": 0.0, \"Load MW\": 0.0, \"Load MVAR\": 0.0, \"Shunt MW\": 0.0, \"Shunt MVAR\": 0.0, \"To Bus Name\": \"152     MID500      500.00    1  2\", \"MW\": 447.5877, \"MVAR\": -128.2461, \"Transformer Ratio\": null, \"Transformer Angle (Deg)\": 0.0, \"Percent\": 38, \"Rating\": 1200.0, \"Load Flow Case\": \"Load-MW = 3603.7, Gen-MW = 3684.0, Reactors-Mvar = 600, Capacitors-Mvar = 950, Load-Mvar = 1950\", \"Load\": \"Load-MW = 3603.7\"}, {\"Bus Name\": \"151     NUCPANT     500.00\", \"Area Number\": 0, \"Zone Number\": 0, \"Volt (PU)\": 0.0, \"Volt (KV)\": 0.0, \"Angle (Deg)\": 0.0, \"Gen MW\": 0.0, \"Gen MVAR\": 0.0, \"Load MW\": 0.0, \"Load MVAR\": 0.0, \"Shunt MW\": 0.0, \"Shunt MVAR\": 0.0, \"To Bus Name\": \"201     HYDRO       500.00    2  1\", \"MW\": 601.5081, \"MVAR\": -286.9975, \"Transformer Ratio\": null, \"Transformer Angle (Deg)\": 0.0, \"Percent\": 55, \"Rating\": 1200.0, \"Load Flow Case\": \"Load-MW = 3603.7, Gen-MW = 3684.0, Reactors-Mvar = 600, Capacitors-Mvar = 950, Load-Mvar = 1950\", \"Load\": \"Load-MW = 3603.7\"}, {\"Bus Name\": \"151     NUCPANT     500.00\", \"Area Number\": 0, \"Zone Number\": 0, \"Volt (PU)\": 0.0, \"Volt (KV)\": 0.0, \"Angle (Deg)\": 0.0, \"Gen MW\": 0.0, \"Gen MVAR\": 0.0, \"Load MW\": 0.0, \"Load MVAR\": 0.0, \"Shunt MW\": 0.0, \"Shunt MVAR\": 0.0, \"To Bus Name\": \"101     NUC-A       21.600    1  1\", \"MW\": -748.3386, \"MVAR\": -40.7206, \"Transformer Ratio\": \"1.000LK\", \"Transformer Angle (Deg)\": 0.0, \"Percent\": 60, \"Rating\": 1250.0, \"Load Flow Case\": \"Load-MW = 3675.7, Gen-MW = 3762.5, Reactors-Mvar = 600, Capacitors-Mvar = 950, Load-Mvar = 1950\", \"Load\": \"Load-MW = 3675.7\"}, {\"Bus Name\": \"151     NUCPANT     500.00\", \"Area Number\": 0, \"Zone Number\": 0, \"Volt (PU)\": 0.0, \"Volt (KV)\": 0.0, \"Angle (Deg)\": 0.0, \"Gen MW\": 0.0, \"Gen MVAR\": 0.0, \"Load MW\": 0.0, \"Load MVAR\": 0.0, \"Shunt MW\": 0.0, \"Shunt MVAR\": 0.0, \"To Bus Name\": \"102     NUC-B       21.600    1  1\", \"MW\": -748.3386, \"MVAR\": -40.7206, \"Transformer Ratio\": \"1.000LK\", \"Transformer Angle (Deg)\": 0.0, \"Percent\": 60, \"Rating\": 1250.0, \"Load Flow Case\": \"Load-MW = 3675.7, Gen-MW = 3762.5, Reactors-Mvar = 600, Capacitors-Mvar = 950, Load-Mvar = 1950\", \"Load\": \"Load-MW = 3675.7\"}, {\"Bus Name\": \"151     NUCPANT     500.00\", \"Area Number\": 0, \"Zone Number\": 0, \"Volt (PU)\": 0.0, \"Volt (KV)\": 0.0, \"Angle (Deg)\": 0.0, \"Gen MW\": 0.0, \"Gen MVAR\": 0.0, \"Load MW\": 0.0, \"Load MVAR\": 0.0, \"Shunt MW\": 0.0, \"Shunt MVAR\": 0.0, \"To Bus Name\": \"152     MID500      500.00    1  1\", \"MW\": 443.7624, \"MVAR\": -117.0111, \"Transformer Ratio\": null, \"Transformer Angle (Deg)\": 0.0, \"Percent\": 38, \"Rating\": 1200.0, \"Load Flow Case\": \"Load-MW = 3675.7, Gen-MW = 3762.5, Reactors-Mvar = 600, Capacitors-Mvar = 950, Load-Mvar = 1950\", \"Load\": \"Load-MW = 3675.7\"}, {\"Bus Name\": \"151     NUCPANT     500.00\", \"Area Number\": 0, \"Zone Number\": 0, \"Volt (PU)\": 0.0, \"Volt (KV)\": 0.0, \"Angle (Deg)\": 0.0, \"Gen MW\": 0.0, \"Gen MVAR\": 0.0, \"Load MW\": 0.0, \"Load MVAR\": 0.0, \"Shunt MW\": 0.0, \"Shunt MVAR\": 0.0, \"To Bus Name\": \"152     MID500      500.00    1  2\", \"MW\": 443.7624, \"MVAR\": -117.0111, \"Transformer Ratio\": null, \"Transformer Angle (Deg)\": 0.0, \"Percent\": 38, \"Rating\": 1200.0, \"Load Flow Case\": \"Load-MW = 3675.7, Gen-MW = 3762.5, Reactors-Mvar = 600, Capacitors-Mvar = 950, Load-Mvar = 1950\", \"Load\": \"Load-MW = 3675.7\"}, {\"Bus Name\": \"151     NUCPANT     500.00\", \"Area Number\": 0, \"Zone Number\": 0, \"Volt (PU)\": 0.0, \"Volt (KV)\": 0.0, \"Angle (Deg)\": 0.0, \"Gen MW\": 0.0, \"Gen MVAR\": 0.0, \"Load MW\": 0.0, \"Load MVAR\": 0.0, \"Shunt MW\": 0.0, \"Shunt MVAR\": 0.0, \"To Bus Name\": \"201     HYDRO       500.00    2  1\", \"MW\": 609.1472, \"MVAR\": -293.2906, \"Transformer Ratio\": null, \"Transformer Angle (Deg)\": 0.0, \"Percent\": 56, \"Rating\": 1200.0, \"Load Flow Case\": \"Load-MW = 3675.7, Gen-MW = 3762.5, Reactors-Mvar = 600, Capacitors-Mvar = 950, Load-Mvar = 1950\", \"Load\": \"Load-MW = 3675.7\"}, {\"Bus Name\": \"151     NUCPANT     500.00\", \"Area Number\": 0, \"Zone Number\": 0, \"Volt (PU)\": 0.0, \"Volt (KV)\": 0.0, \"Angle (Deg)\": 0.0, \"Gen MW\": 0.0, \"Gen MVAR\": 0.0, \"Load MW\": 0.0, \"Load MVAR\": 0.0, \"Shunt MW\": 0.0, \"Shunt MVAR\": 0.0, \"To Bus Name\": \"101     NUC-A       21.600    1  1\", \"MW\": -748.3323, \"MVAR\": -49.6308, \"Transformer Ratio\": \"1.000LK\", \"Transformer Angle (Deg)\": 0.0, \"Percent\": 60, \"Rating\": 1250.0, \"Load Flow Case\": \"Load-MW = 3749.3093, Gen-MW = 3843.7, Reactors-Mvar = 600, Capacitors-Mvar = 950, Load-Mvar = 1950\", \"Load\": \"Load-MW = 3749.3093\"}, {\"Bus Name\": \"151     NUCPANT     500.00\", \"Area Number\": 0, \"Zone Number\": 0, \"Volt (PU)\": 0.0, \"Volt (KV)\": 0.0, \"Angle (Deg)\": 0.0, \"Gen MW\": 0.0, \"Gen MVAR\": 0.0, \"Load MW\": 0.0, \"Load MVAR\": 0.0, \"Shunt MW\": 0.0, \"Shunt MVAR\": 0.0, \"To Bus Name\": \"102     NUC-B       21.600    1  1\", \"MW\": -748.3323, \"MVAR\": -49.6308, \"Transformer Ratio\": \"1.000LK\", \"Transformer Angle (Deg)\": 0.0, \"Percent\": 60, \"Rating\": 1250.0, \"Load Flow Case\": \"Load-MW = 3749.3093, Gen-MW = 3843.7, Reactors-Mvar = 600, Capacitors-Mvar = 950, Load-Mvar = 1950\", \"Load\": \"Load-MW = 3749.3093\"}, {\"Bus Name\": \"151     NUCPANT     500.00\", \"Area Number\": 0, \"Zone Number\": 0, \"Volt (PU)\": 0.0, \"Volt (KV)\": 0.0, \"Angle (Deg)\": 0.0, \"Gen MW\": 0.0, \"Gen MVAR\": 0.0, \"Load MW\": 0.0, \"Load MVAR\": 0.0, \"Shunt MW\": 0.0, \"Shunt MVAR\": 0.0, \"To Bus Name\": \"152     MID500      500.00    1  1\", \"MW\": 439.5884, \"MVAR\": -103.6066, \"Transformer Ratio\": null, \"Transformer Angle (Deg)\": 0.0, \"Percent\": 37, \"Rating\": 1200.0, \"Load Flow Case\": \"Load-MW = 3749.3093, Gen-MW = 3843.7, Reactors-Mvar = 600, Capacitors-Mvar = 950, Load-Mvar = 1950\", \"Load\": \"Load-MW = 3749.3093\"}, {\"Bus Name\": \"151     NUCPANT     500.00\", \"Area Number\": 0, \"Zone Number\": 0, \"Volt (PU)\": 0.0, \"Volt (KV)\": 0.0, \"Angle (Deg)\": 0.0, \"Gen MW\": 0.0, \"Gen MVAR\": 0.0, \"Load MW\": 0.0, \"Load MVAR\": 0.0, \"Shunt MW\": 0.0, \"Shunt MVAR\": 0.0, \"To Bus Name\": \"152     MID500      500.00    1  2\", \"MW\": 439.5884, \"MVAR\": -103.6066, \"Transformer Ratio\": null, \"Transformer Angle (Deg)\": 0.0, \"Percent\": 37, \"Rating\": 1200.0, \"Load Flow Case\": \"Load-MW = 3749.3093, Gen-MW = 3843.7, Reactors-Mvar = 600, Capacitors-Mvar = 950, Load-Mvar = 1950\", \"Load\": \"Load-MW = 3749.3093\"}, {\"Bus Name\": \"151     NUCPANT     500.00\", \"Area Number\": 0, \"Zone Number\": 0, \"Volt (PU)\": 0.0, \"Volt (KV)\": 0.0, \"Angle (Deg)\": 0.0, \"Gen MW\": 0.0, \"Gen MVAR\": 0.0, \"Load MW\": 0.0, \"Load MVAR\": 0.0, \"Shunt MW\": 0.0, \"Shunt MVAR\": 0.0, \"To Bus Name\": \"201     HYDRO       500.00    2  1\", \"MW\": 617.4829, \"MVAR\": -300.8014, \"Transformer Ratio\": null, \"Transformer Angle (Deg)\": 0.0, \"Percent\": 57, \"Rating\": 1200.0, \"Load Flow Case\": \"Load-MW = 3749.3093, Gen-MW = 3843.7, Reactors-Mvar = 600, Capacitors-Mvar = 950, Load-Mvar = 1950\", \"Load\": \"Load-MW = 3749.3093\"}]}}, {\"mode\": \"vega-lite\"});\n",
       "</script>"
      ],
      "text/plain": [
       "alt.FacetChart(...)"
      ]
     },
     "execution_count": 43,
     "metadata": {},
     "output_type": "execute_result"
    }
   ],
   "source": [
    "display_MW_from_bus(data_analysis,  '151     NUCPANT     500.00')"
   ]
  },
  {
   "cell_type": "markdown",
   "id": "a0e3b696-3ed7-4750-b477-4581d8643564",
   "metadata": {},
   "source": [
    "Similar to real power flow, reactive power flow can also plotted using another function by choosing the desired bus"
   ]
  },
  {
   "cell_type": "code",
   "execution_count": 41,
   "id": "ec5d082c-03fe-4a59-9547-22c98a0ee242",
   "metadata": {},
   "outputs": [],
   "source": [
    "def display_MVAR_from_bus(df, bus_name):\n",
    "    df_ans = df[(df['Bus Name'] == bus_name) & (~df['To Bus Name'].isnull())]\n",
    "    chart = alt.Chart(df_ans, title = bus_name).mark_bar().encode(\n",
    "        alt.Y('Load', title=''),\n",
    "        alt.X('MVAR', title=''),\n",
    "        alt.Color('Load'),\n",
    "        tooltip = ['Bus Name', 'To Bus Name','MVAR']).properties(width=300, height=300).facet('To Bus Name', columns=1).resolve_scale(x='independent')  \n",
    "    return chart"
   ]
  },
  {
   "cell_type": "markdown",
   "id": "8313ba23-5371-4694-83e6-717efd3c8492",
   "metadata": {},
   "source": [
    "\n",
    "For example the MVAR flow from the bus '3002     E. MINE     500.00' is plotted using the function as shown below. Hover over the bar charts to get the flow value \n"
   ]
  },
  {
   "cell_type": "code",
   "execution_count": 42,
   "id": "a94255d5-75cd-43b2-901b-adbbac1be453",
   "metadata": {},
   "outputs": [
    {
     "data": {
      "text/html": [
       "\n",
       "<style>\n",
       "  #altair-viz-2c1ebe575bf6444e87c845f6e9c40b5f.vega-embed {\n",
       "    width: 100%;\n",
       "    display: flex;\n",
       "  }\n",
       "\n",
       "  #altair-viz-2c1ebe575bf6444e87c845f6e9c40b5f.vega-embed details,\n",
       "  #altair-viz-2c1ebe575bf6444e87c845f6e9c40b5f.vega-embed details summary {\n",
       "    position: relative;\n",
       "  }\n",
       "</style>\n",
       "<div id=\"altair-viz-2c1ebe575bf6444e87c845f6e9c40b5f\"></div>\n",
       "<script type=\"text/javascript\">\n",
       "  var VEGA_DEBUG = (typeof VEGA_DEBUG == \"undefined\") ? {} : VEGA_DEBUG;\n",
       "  (function(spec, embedOpt){\n",
       "    let outputDiv = document.currentScript.previousElementSibling;\n",
       "    if (outputDiv.id !== \"altair-viz-2c1ebe575bf6444e87c845f6e9c40b5f\") {\n",
       "      outputDiv = document.getElementById(\"altair-viz-2c1ebe575bf6444e87c845f6e9c40b5f\");\n",
       "    }\n",
       "    const paths = {\n",
       "      \"vega\": \"https://cdn.jsdelivr.net/npm/vega@5?noext\",\n",
       "      \"vega-lib\": \"https://cdn.jsdelivr.net/npm/vega-lib?noext\",\n",
       "      \"vega-lite\": \"https://cdn.jsdelivr.net/npm/vega-lite@5.20.1?noext\",\n",
       "      \"vega-embed\": \"https://cdn.jsdelivr.net/npm/vega-embed@6?noext\",\n",
       "    };\n",
       "\n",
       "    function maybeLoadScript(lib, version) {\n",
       "      var key = `${lib.replace(\"-\", \"\")}_version`;\n",
       "      return (VEGA_DEBUG[key] == version) ?\n",
       "        Promise.resolve(paths[lib]) :\n",
       "        new Promise(function(resolve, reject) {\n",
       "          var s = document.createElement('script');\n",
       "          document.getElementsByTagName(\"head\")[0].appendChild(s);\n",
       "          s.async = true;\n",
       "          s.onload = () => {\n",
       "            VEGA_DEBUG[key] = version;\n",
       "            return resolve(paths[lib]);\n",
       "          };\n",
       "          s.onerror = () => reject(`Error loading script: ${paths[lib]}`);\n",
       "          s.src = paths[lib];\n",
       "        });\n",
       "    }\n",
       "\n",
       "    function showError(err) {\n",
       "      outputDiv.innerHTML = `<div class=\"error\" style=\"color:red;\">${err}</div>`;\n",
       "      throw err;\n",
       "    }\n",
       "\n",
       "    function displayChart(vegaEmbed) {\n",
       "      vegaEmbed(outputDiv, spec, embedOpt)\n",
       "        .catch(err => showError(`Javascript Error: ${err.message}<br>This usually means there's a typo in your chart specification. See the javascript console for the full traceback.`));\n",
       "    }\n",
       "\n",
       "    if(typeof define === \"function\" && define.amd) {\n",
       "      requirejs.config({paths});\n",
       "      require([\"vega-embed\"], displayChart, err => showError(`Error loading script: ${err.message}`));\n",
       "    } else {\n",
       "      maybeLoadScript(\"vega\", \"5\")\n",
       "        .then(() => maybeLoadScript(\"vega-lite\", \"5.20.1\"))\n",
       "        .then(() => maybeLoadScript(\"vega-embed\", \"6\"))\n",
       "        .catch(showError)\n",
       "        .then(() => displayChart(vegaEmbed));\n",
       "    }\n",
       "  })({\"config\": {\"view\": {\"continuousWidth\": 300, \"continuousHeight\": 300}}, \"data\": {\"name\": \"data-bd0e7aea157c67f58e398f316d393f73\"}, \"facet\": {\"field\": \"To Bus Name\", \"type\": \"nominal\"}, \"spec\": {\"mark\": {\"type\": \"bar\"}, \"encoding\": {\"color\": {\"field\": \"Load\", \"type\": \"nominal\"}, \"tooltip\": [{\"field\": \"Bus Name\", \"type\": \"nominal\"}, {\"field\": \"To Bus Name\", \"type\": \"nominal\"}, {\"field\": \"MVAR\", \"type\": \"quantitative\"}], \"x\": {\"field\": \"MVAR\", \"title\": \"\", \"type\": \"quantitative\"}, \"y\": {\"field\": \"Load\", \"title\": \"\", \"type\": \"nominal\"}}, \"height\": 300, \"title\": \"3002     E. MINE     500.00\", \"width\": 300}, \"columns\": 1, \"resolve\": {\"scale\": {\"x\": \"independent\"}}, \"$schema\": \"https://vega.github.io/schema/vega-lite/v5.20.1.json\", \"datasets\": {\"data-bd0e7aea157c67f58e398f316d393f73\": [{\"Bus Name\": \"3002     E. MINE     500.00\", \"Area Number\": 0, \"Zone Number\": 0, \"Volt (PU)\": 0.0, \"Volt (KV)\": 0.0, \"Angle (Deg)\": 0.0, \"Gen MW\": 0.0, \"Gen MVAR\": 0.0, \"Load MW\": 0.0, \"Load MVAR\": 0.0, \"Shunt MW\": 0.0, \"Shunt MVAR\": 0.0, \"To Bus Name\": \"3001     MINE        230.00    5  1\", \"MW\": -55.9752, \"MVAR\": -11.5109, \"Transformer Ratio\": \"1.000UN\", \"Transformer Angle (Deg)\": 0.0, \"Percent\": 7, \"Rating\": 800.0, \"Load Flow Case\": \"Load-MW = 3200, Gen-MW = 3258.64, Reactors-Mvar = 600, Capacitors-Mvar = 950, Load-Mvar = 1950\", \"Load\": \"Load-MW = 3200\"}, {\"Bus Name\": \"3002     E. MINE     500.00\", \"Area Number\": 0, \"Zone Number\": 0, \"Volt (PU)\": 0.0, \"Volt (KV)\": 0.0, \"Angle (Deg)\": 0.0, \"Gen MW\": 0.0, \"Gen MVAR\": 0.0, \"Load MW\": 0.0, \"Load MVAR\": 0.0, \"Shunt MW\": 0.0, \"Shunt MVAR\": 0.0, \"To Bus Name\": \"3004     WEST        500.00    5  1\", \"MW\": 55.9751, \"MVAR\": 11.5109, \"Transformer Ratio\": null, \"Transformer Angle (Deg)\": 0.0, \"Percent\": 0, \"Rating\": null, \"Load Flow Case\": \"Load-MW = 3200, Gen-MW = 3258.64, Reactors-Mvar = 600, Capacitors-Mvar = 950, Load-Mvar = 1950\", \"Load\": \"Load-MW = 3200\"}, {\"Bus Name\": \"3002     E. MINE     500.00\", \"Area Number\": 0, \"Zone Number\": 0, \"Volt (PU)\": 0.0, \"Volt (KV)\": 0.0, \"Angle (Deg)\": 0.0, \"Gen MW\": 0.0, \"Gen MVAR\": 0.0, \"Load MW\": 0.0, \"Load MVAR\": 0.0, \"Shunt MW\": 0.0, \"Shunt MVAR\": 0.0, \"To Bus Name\": \"3001     MINE        230.00    5  1\", \"MW\": -78.4167, \"MVAR\": -12.3509, \"Transformer Ratio\": \"1.000UN\", \"Transformer Angle (Deg)\": 0.0, \"Percent\": 10, \"Rating\": 800.0, \"Load Flow Case\": \"Load-MW = 3264, Gen-MW = 3324.8, Reactors-Mvar = 600, Capacitors-Mvar = 950, Load-Mvar = 1950\", \"Load\": \"Load-MW = 3264\"}, {\"Bus Name\": \"3002     E. MINE     500.00\", \"Area Number\": 0, \"Zone Number\": 0, \"Volt (PU)\": 0.0, \"Volt (KV)\": 0.0, \"Angle (Deg)\": 0.0, \"Gen MW\": 0.0, \"Gen MVAR\": 0.0, \"Load MW\": 0.0, \"Load MVAR\": 0.0, \"Shunt MW\": 0.0, \"Shunt MVAR\": 0.0, \"To Bus Name\": \"3004     WEST        500.00    5  1\", \"MW\": 78.4168, \"MVAR\": 12.3509, \"Transformer Ratio\": null, \"Transformer Angle (Deg)\": 0.0, \"Percent\": 0, \"Rating\": null, \"Load Flow Case\": \"Load-MW = 3264, Gen-MW = 3324.8, Reactors-Mvar = 600, Capacitors-Mvar = 950, Load-Mvar = 1950\", \"Load\": \"Load-MW = 3264\"}, {\"Bus Name\": \"3002     E. MINE     500.00\", \"Area Number\": 0, \"Zone Number\": 0, \"Volt (PU)\": 0.0, \"Volt (KV)\": 0.0, \"Angle (Deg)\": 0.0, \"Gen MW\": 0.0, \"Gen MVAR\": 0.0, \"Load MW\": 0.0, \"Load MVAR\": 0.0, \"Shunt MW\": 0.0, \"Shunt MVAR\": 0.0, \"To Bus Name\": \"3001     MINE        230.00    5  1\", \"MW\": -101.4713, \"MVAR\": -13.7509, \"Transformer Ratio\": \"1.000UN\", \"Transformer Angle (Deg)\": 0.0, \"Percent\": 13, \"Rating\": 800.0, \"Load Flow Case\": \"Load-MW = 3329.3, Gen-MW = 3392.7, Reactors-Mvar = 600, Capacitors-Mvar = 950, Load-Mvar = 1950\", \"Load\": \"Load-MW = 3329.3\"}, {\"Bus Name\": \"3002     E. MINE     500.00\", \"Area Number\": 0, \"Zone Number\": 0, \"Volt (PU)\": 0.0, \"Volt (KV)\": 0.0, \"Angle (Deg)\": 0.0, \"Gen MW\": 0.0, \"Gen MVAR\": 0.0, \"Load MW\": 0.0, \"Load MVAR\": 0.0, \"Shunt MW\": 0.0, \"Shunt MVAR\": 0.0, \"To Bus Name\": \"3004     WEST        500.00    5  1\", \"MW\": 101.4714, \"MVAR\": 13.7509, \"Transformer Ratio\": null, \"Transformer Angle (Deg)\": 0.0, \"Percent\": 0, \"Rating\": null, \"Load Flow Case\": \"Load-MW = 3329.3, Gen-MW = 3392.7, Reactors-Mvar = 600, Capacitors-Mvar = 950, Load-Mvar = 1950\", \"Load\": \"Load-MW = 3329.3\"}, {\"Bus Name\": \"3002     E. MINE     500.00\", \"Area Number\": 0, \"Zone Number\": 0, \"Volt (PU)\": 0.0, \"Volt (KV)\": 0.0, \"Angle (Deg)\": 0.0, \"Gen MW\": 0.0, \"Gen MVAR\": 0.0, \"Load MW\": 0.0, \"Load MVAR\": 0.0, \"Shunt MW\": 0.0, \"Shunt MVAR\": 0.0, \"To Bus Name\": \"3001     MINE        230.00    5  1\", \"MW\": -125.175, \"MVAR\": -15.777, \"Transformer Ratio\": \"1.000UN\", \"Transformer Angle (Deg)\": 0.0, \"Percent\": 16, \"Rating\": 800.0, \"Load Flow Case\": \"Load-MW = 3395.9, Gen-MW = 3462.4, Reactors-Mvar = 600, Capacitors-Mvar = 950, Load-Mvar = 1950\", \"Load\": \"Load-MW = 3395.9\"}, {\"Bus Name\": \"3002     E. MINE     500.00\", \"Area Number\": 0, \"Zone Number\": 0, \"Volt (PU)\": 0.0, \"Volt (KV)\": 0.0, \"Angle (Deg)\": 0.0, \"Gen MW\": 0.0, \"Gen MVAR\": 0.0, \"Load MW\": 0.0, \"Load MVAR\": 0.0, \"Shunt MW\": 0.0, \"Shunt MVAR\": 0.0, \"To Bus Name\": \"3004     WEST        500.00    5  1\", \"MW\": 125.1751, \"MVAR\": 15.7771, \"Transformer Ratio\": null, \"Transformer Angle (Deg)\": 0.0, \"Percent\": 0, \"Rating\": null, \"Load Flow Case\": \"Load-MW = 3395.9, Gen-MW = 3462.4, Reactors-Mvar = 600, Capacitors-Mvar = 950, Load-Mvar = 1950\", \"Load\": \"Load-MW = 3395.9\"}, {\"Bus Name\": \"3002     E. MINE     500.00\", \"Area Number\": 0, \"Zone Number\": 0, \"Volt (PU)\": 0.0, \"Volt (KV)\": 0.0, \"Angle (Deg)\": 0.0, \"Gen MW\": 0.0, \"Gen MVAR\": 0.0, \"Load MW\": 0.0, \"Load MVAR\": 0.0, \"Shunt MW\": 0.0, \"Shunt MVAR\": 0.0, \"To Bus Name\": \"3001     MINE        230.00    5  1\", \"MW\": -149.5694, \"MVAR\": -18.5139, \"Transformer Ratio\": \"1.000UN\", \"Transformer Angle (Deg)\": 0.0, \"Percent\": 19, \"Rating\": 800.0, \"Load Flow Case\": \"Load-MW = 3463.8, Gen-MW = 3534.1, Reactors-Mvar = 600, Capacitors-Mvar = 950, Load-Mvar = 1950\", \"Load\": \"Load-MW = 3463.8\"}, {\"Bus Name\": \"3002     E. MINE     500.00\", \"Area Number\": 0, \"Zone Number\": 0, \"Volt (PU)\": 0.0, \"Volt (KV)\": 0.0, \"Angle (Deg)\": 0.0, \"Gen MW\": 0.0, \"Gen MVAR\": 0.0, \"Load MW\": 0.0, \"Load MVAR\": 0.0, \"Shunt MW\": 0.0, \"Shunt MVAR\": 0.0, \"To Bus Name\": \"3004     WEST        500.00    5  1\", \"MW\": 149.5693, \"MVAR\": 18.514, \"Transformer Ratio\": null, \"Transformer Angle (Deg)\": 0.0, \"Percent\": 0, \"Rating\": null, \"Load Flow Case\": \"Load-MW = 3463.8, Gen-MW = 3534.1, Reactors-Mvar = 600, Capacitors-Mvar = 950, Load-Mvar = 1950\", \"Load\": \"Load-MW = 3463.8\"}, {\"Bus Name\": \"3002     E. MINE     500.00\", \"Area Number\": 0, \"Zone Number\": 0, \"Volt (PU)\": 0.0, \"Volt (KV)\": 0.0, \"Angle (Deg)\": 0.0, \"Gen MW\": 0.0, \"Gen MVAR\": 0.0, \"Load MW\": 0.0, \"Load MVAR\": 0.0, \"Shunt MW\": 0.0, \"Shunt MVAR\": 0.0, \"To Bus Name\": \"3001     MINE        230.00    5  1\", \"MW\": -174.7039, \"MVAR\": -22.0736, \"Transformer Ratio\": \"1.000UN\", \"Transformer Angle (Deg)\": 0.0, \"Percent\": 22, \"Rating\": 800.0, \"Load Flow Case\": \"Load-MW = 3533.1, Gen-MW = 3607.9, Reactors-Mvar = 600, Capacitors-Mvar = 950, Load-Mvar = 1950\", \"Load\": \"Load-MW = 3533.1\"}, {\"Bus Name\": \"3002     E. MINE     500.00\", \"Area Number\": 0, \"Zone Number\": 0, \"Volt (PU)\": 0.0, \"Volt (KV)\": 0.0, \"Angle (Deg)\": 0.0, \"Gen MW\": 0.0, \"Gen MVAR\": 0.0, \"Load MW\": 0.0, \"Load MVAR\": 0.0, \"Shunt MW\": 0.0, \"Shunt MVAR\": 0.0, \"To Bus Name\": \"3004     WEST        500.00    5  1\", \"MW\": 174.7038, \"MVAR\": 22.0737, \"Transformer Ratio\": null, \"Transformer Angle (Deg)\": 0.0, \"Percent\": 0, \"Rating\": null, \"Load Flow Case\": \"Load-MW = 3533.1, Gen-MW = 3607.9, Reactors-Mvar = 600, Capacitors-Mvar = 950, Load-Mvar = 1950\", \"Load\": \"Load-MW = 3533.1\"}, {\"Bus Name\": \"3002     E. MINE     500.00\", \"Area Number\": 0, \"Zone Number\": 0, \"Volt (PU)\": 0.0, \"Volt (KV)\": 0.0, \"Angle (Deg)\": 0.0, \"Gen MW\": 0.0, \"Gen MVAR\": 0.0, \"Load MW\": 0.0, \"Load MVAR\": 0.0, \"Shunt MW\": 0.0, \"Shunt MVAR\": 0.0, \"To Bus Name\": \"3001     MINE        230.00    5  1\", \"MW\": -200.6447, \"MVAR\": -26.5899, \"Transformer Ratio\": \"1.000UN\", \"Transformer Angle (Deg)\": 0.0, \"Percent\": 25, \"Rating\": 800.0, \"Load Flow Case\": \"Load-MW = 3603.7, Gen-MW = 3684.0, Reactors-Mvar = 600, Capacitors-Mvar = 950, Load-Mvar = 1950\", \"Load\": \"Load-MW = 3603.7\"}, {\"Bus Name\": \"3002     E. MINE     500.00\", \"Area Number\": 0, \"Zone Number\": 0, \"Volt (PU)\": 0.0, \"Volt (KV)\": 0.0, \"Angle (Deg)\": 0.0, \"Gen MW\": 0.0, \"Gen MVAR\": 0.0, \"Load MW\": 0.0, \"Load MVAR\": 0.0, \"Shunt MW\": 0.0, \"Shunt MVAR\": 0.0, \"To Bus Name\": \"3004     WEST        500.00    5  1\", \"MW\": 200.6445, \"MVAR\": 26.5899, \"Transformer Ratio\": null, \"Transformer Angle (Deg)\": 0.0, \"Percent\": 0, \"Rating\": null, \"Load Flow Case\": \"Load-MW = 3603.7, Gen-MW = 3684.0, Reactors-Mvar = 600, Capacitors-Mvar = 950, Load-Mvar = 1950\", \"Load\": \"Load-MW = 3603.7\"}, {\"Bus Name\": \"3002     E. MINE     500.00\", \"Area Number\": 0, \"Zone Number\": 0, \"Volt (PU)\": 0.0, \"Volt (KV)\": 0.0, \"Angle (Deg)\": 0.0, \"Gen MW\": 0.0, \"Gen MVAR\": 0.0, \"Load MW\": 0.0, \"Load MVAR\": 0.0, \"Shunt MW\": 0.0, \"Shunt MVAR\": 0.0, \"To Bus Name\": \"3001     MINE        230.00    5  1\", \"MW\": -227.474, \"MVAR\": -32.251, \"Transformer Ratio\": \"1.000UN\", \"Transformer Angle (Deg)\": 0.0, \"Percent\": 29, \"Rating\": 800.0, \"Load Flow Case\": \"Load-MW = 3675.7, Gen-MW = 3762.5, Reactors-Mvar = 600, Capacitors-Mvar = 950, Load-Mvar = 1950\", \"Load\": \"Load-MW = 3675.7\"}, {\"Bus Name\": \"3002     E. MINE     500.00\", \"Area Number\": 0, \"Zone Number\": 0, \"Volt (PU)\": 0.0, \"Volt (KV)\": 0.0, \"Angle (Deg)\": 0.0, \"Gen MW\": 0.0, \"Gen MVAR\": 0.0, \"Load MW\": 0.0, \"Load MVAR\": 0.0, \"Shunt MW\": 0.0, \"Shunt MVAR\": 0.0, \"To Bus Name\": \"3004     WEST        500.00    5  1\", \"MW\": 227.4736, \"MVAR\": 32.2511, \"Transformer Ratio\": null, \"Transformer Angle (Deg)\": 0.0, \"Percent\": 0, \"Rating\": null, \"Load Flow Case\": \"Load-MW = 3675.7, Gen-MW = 3762.5, Reactors-Mvar = 600, Capacitors-Mvar = 950, Load-Mvar = 1950\", \"Load\": \"Load-MW = 3675.7\"}, {\"Bus Name\": \"3002     E. MINE     500.00\", \"Area Number\": 0, \"Zone Number\": 0, \"Volt (PU)\": 0.0, \"Volt (KV)\": 0.0, \"Angle (Deg)\": 0.0, \"Gen MW\": 0.0, \"Gen MVAR\": 0.0, \"Load MW\": 0.0, \"Load MVAR\": 0.0, \"Shunt MW\": 0.0, \"Shunt MVAR\": 0.0, \"To Bus Name\": \"3001     MINE        230.00    5  1\", \"MW\": -255.3122, \"MVAR\": -39.3286, \"Transformer Ratio\": \"1.000UN\", \"Transformer Angle (Deg)\": 0.0, \"Percent\": 32, \"Rating\": 800.0, \"Load Flow Case\": \"Load-MW = 3749.3093, Gen-MW = 3843.7, Reactors-Mvar = 600, Capacitors-Mvar = 950, Load-Mvar = 1950\", \"Load\": \"Load-MW = 3749.3093\"}, {\"Bus Name\": \"3002     E. MINE     500.00\", \"Area Number\": 0, \"Zone Number\": 0, \"Volt (PU)\": 0.0, \"Volt (KV)\": 0.0, \"Angle (Deg)\": 0.0, \"Gen MW\": 0.0, \"Gen MVAR\": 0.0, \"Load MW\": 0.0, \"Load MVAR\": 0.0, \"Shunt MW\": 0.0, \"Shunt MVAR\": 0.0, \"To Bus Name\": \"3004     WEST        500.00    5  1\", \"MW\": 255.3116, \"MVAR\": 39.3286, \"Transformer Ratio\": null, \"Transformer Angle (Deg)\": 0.0, \"Percent\": 0, \"Rating\": null, \"Load Flow Case\": \"Load-MW = 3749.3093, Gen-MW = 3843.7, Reactors-Mvar = 600, Capacitors-Mvar = 950, Load-Mvar = 1950\", \"Load\": \"Load-MW = 3749.3093\"}]}}, {\"mode\": \"vega-lite\"});\n",
       "</script>"
      ],
      "text/plain": [
       "alt.FacetChart(...)"
      ]
     },
     "execution_count": 42,
     "metadata": {},
     "output_type": "execute_result"
    }
   ],
   "source": [
    "display_MVAR_from_bus(data_analysis,'3002     E. MINE     500.00')"
   ]
  },
  {
   "cell_type": "markdown",
   "id": "59544754-f2e1-44ab-9a74-4acafc9fce7b",
   "metadata": {},
   "source": [
    "For each load flow case, a function can be defined to obtain the variation in Gen MW, Gen MVAR, Load MW, Load MVAR, Shunt MVAR etc., at their respective buses. \n"
   ]
  },
  {
   "cell_type": "code",
   "execution_count": 49,
   "id": "7a866ea9-5112-446d-88ba-5d8cad31e81e",
   "metadata": {},
   "outputs": [],
   "source": [
    "def plot_load_flow(df, X, Y, col, field):\n",
    "    df_fil = df[df[Y] != 0]\n",
    "    line = alt.Chart(df_fil).mark_line().encode(\n",
    "            x = X,\n",
    "            y = Y,  \n",
    "            color = col).properties(height = 600, width = 500)\n",
    "    point = alt.Chart(df_fil).mark_circle().encode(\n",
    "            x = X,\n",
    "            y = Y,  \n",
    "            color = col).properties(height = 600, width = 500)\n",
    "    values = sorted(df_fil[field].unique())\n",
    "    dropdown = alt.binding_select(name='Load Flow Case: ', options = values)\n",
    "    select_case = alt.selection_single(fields=[field], bind=dropdown)\n",
    "\n",
    "    plot = (line + point).add_selection(select_case).encode(\n",
    "            opacity=alt.condition(select_case, alt.value(0.7), alt.value(0.05))).properties(title = (str(Y)))\n",
    "    return plot"
   ]
  },
  {
   "cell_type": "markdown",
   "id": "25481c07-36c4-4ecb-b8cc-833044352486",
   "metadata": {},
   "source": [
    "\n",
    "For example the Gen MVAR is plotted as shown. The plot shows all the load flow cases combined. To examine each of the load flow case separately, the dropdown option can be used \n"
   ]
  },
  {
   "cell_type": "code",
   "execution_count": 51,
   "id": "98c5a258-8707-4eb5-b74f-0d7f2176c540",
   "metadata": {},
   "outputs": [
    {
     "name": "stderr",
     "output_type": "stream",
     "text": [
      "<ipython-input-49-e811b9edd3ad>:13: AltairDeprecationWarning: Deprecated in `altair=5.0.0`. Use selection_point instead.\n",
      "  select_case = alt.selection_single(fields=[field], bind=dropdown)\n",
      "<ipython-input-49-e811b9edd3ad>:15: AltairDeprecationWarning: Deprecated in `altair=5.0.0`. Use add_params instead.\n",
      "  plot = (line + point).add_selection(select_case).encode(\n"
     ]
    },
    {
     "data": {
      "text/html": [
       "\n",
       "<style>\n",
       "  #altair-viz-fd416ac96b434840856ecb667ee66e49.vega-embed {\n",
       "    width: 100%;\n",
       "    display: flex;\n",
       "  }\n",
       "\n",
       "  #altair-viz-fd416ac96b434840856ecb667ee66e49.vega-embed details,\n",
       "  #altair-viz-fd416ac96b434840856ecb667ee66e49.vega-embed details summary {\n",
       "    position: relative;\n",
       "  }\n",
       "</style>\n",
       "<div id=\"altair-viz-fd416ac96b434840856ecb667ee66e49\"></div>\n",
       "<script type=\"text/javascript\">\n",
       "  var VEGA_DEBUG = (typeof VEGA_DEBUG == \"undefined\") ? {} : VEGA_DEBUG;\n",
       "  (function(spec, embedOpt){\n",
       "    let outputDiv = document.currentScript.previousElementSibling;\n",
       "    if (outputDiv.id !== \"altair-viz-fd416ac96b434840856ecb667ee66e49\") {\n",
       "      outputDiv = document.getElementById(\"altair-viz-fd416ac96b434840856ecb667ee66e49\");\n",
       "    }\n",
       "    const paths = {\n",
       "      \"vega\": \"https://cdn.jsdelivr.net/npm/vega@5?noext\",\n",
       "      \"vega-lib\": \"https://cdn.jsdelivr.net/npm/vega-lib?noext\",\n",
       "      \"vega-lite\": \"https://cdn.jsdelivr.net/npm/vega-lite@5.20.1?noext\",\n",
       "      \"vega-embed\": \"https://cdn.jsdelivr.net/npm/vega-embed@6?noext\",\n",
       "    };\n",
       "\n",
       "    function maybeLoadScript(lib, version) {\n",
       "      var key = `${lib.replace(\"-\", \"\")}_version`;\n",
       "      return (VEGA_DEBUG[key] == version) ?\n",
       "        Promise.resolve(paths[lib]) :\n",
       "        new Promise(function(resolve, reject) {\n",
       "          var s = document.createElement('script');\n",
       "          document.getElementsByTagName(\"head\")[0].appendChild(s);\n",
       "          s.async = true;\n",
       "          s.onload = () => {\n",
       "            VEGA_DEBUG[key] = version;\n",
       "            return resolve(paths[lib]);\n",
       "          };\n",
       "          s.onerror = () => reject(`Error loading script: ${paths[lib]}`);\n",
       "          s.src = paths[lib];\n",
       "        });\n",
       "    }\n",
       "\n",
       "    function showError(err) {\n",
       "      outputDiv.innerHTML = `<div class=\"error\" style=\"color:red;\">${err}</div>`;\n",
       "      throw err;\n",
       "    }\n",
       "\n",
       "    function displayChart(vegaEmbed) {\n",
       "      vegaEmbed(outputDiv, spec, embedOpt)\n",
       "        .catch(err => showError(`Javascript Error: ${err.message}<br>This usually means there's a typo in your chart specification. See the javascript console for the full traceback.`));\n",
       "    }\n",
       "\n",
       "    if(typeof define === \"function\" && define.amd) {\n",
       "      requirejs.config({paths});\n",
       "      require([\"vega-embed\"], displayChart, err => showError(`Error loading script: ${err.message}`));\n",
       "    } else {\n",
       "      maybeLoadScript(\"vega\", \"5\")\n",
       "        .then(() => maybeLoadScript(\"vega-lite\", \"5.20.1\"))\n",
       "        .then(() => maybeLoadScript(\"vega-embed\", \"6\"))\n",
       "        .catch(showError)\n",
       "        .then(() => displayChart(vegaEmbed));\n",
       "    }\n",
       "  })({\"config\": {\"view\": {\"continuousWidth\": 300, \"continuousHeight\": 300}}, \"layer\": [{\"mark\": {\"type\": \"line\"}, \"encoding\": {\"color\": {\"field\": \"Load\", \"type\": \"nominal\"}, \"x\": {\"field\": \"Bus Name\", \"type\": \"nominal\"}, \"y\": {\"field\": \"Gen MVAR\", \"type\": \"quantitative\"}}, \"name\": \"view_4\"}, {\"mark\": {\"type\": \"circle\"}, \"encoding\": {\"color\": {\"field\": \"Load\", \"type\": \"nominal\"}, \"x\": {\"field\": \"Bus Name\", \"type\": \"nominal\"}, \"y\": {\"field\": \"Gen MVAR\", \"type\": \"quantitative\"}}}], \"data\": {\"name\": \"data-fc07ac417e4773f4beaafe05b9f53c57\"}, \"encoding\": {\"opacity\": {\"condition\": {\"param\": \"param_4\", \"value\": 0.7}, \"value\": 0.05}}, \"height\": 600, \"params\": [{\"name\": \"param_4\", \"select\": {\"type\": \"point\", \"fields\": [\"Load Flow Case\"]}, \"bind\": {\"input\": \"select\", \"options\": [\"Load-MW = 3200, Gen-MW = 3258.64, Reactors-Mvar = 600, Capacitors-Mvar = 950, Load-Mvar = 1950\", \"Load-MW = 3264, Gen-MW = 3324.8, Reactors-Mvar = 600, Capacitors-Mvar = 950, Load-Mvar = 1950\", \"Load-MW = 3329.3, Gen-MW = 3392.7, Reactors-Mvar = 600, Capacitors-Mvar = 950, Load-Mvar = 1950\", \"Load-MW = 3395.9, Gen-MW = 3462.4, Reactors-Mvar = 600, Capacitors-Mvar = 950, Load-Mvar = 1950\", \"Load-MW = 3463.8, Gen-MW = 3534.1, Reactors-Mvar = 600, Capacitors-Mvar = 950, Load-Mvar = 1950\", \"Load-MW = 3533.1, Gen-MW = 3607.9, Reactors-Mvar = 600, Capacitors-Mvar = 950, Load-Mvar = 1950\", \"Load-MW = 3603.7, Gen-MW = 3684.0, Reactors-Mvar = 600, Capacitors-Mvar = 950, Load-Mvar = 1950\", \"Load-MW = 3675.7, Gen-MW = 3762.5, Reactors-Mvar = 600, Capacitors-Mvar = 950, Load-Mvar = 1950\", \"Load-MW = 3749.3093, Gen-MW = 3843.7, Reactors-Mvar = 600, Capacitors-Mvar = 950, Load-Mvar = 1950\"], \"name\": \"Load Flow Case: \"}, \"views\": [\"view_4\"]}], \"title\": \"Gen MVAR\", \"width\": 500, \"$schema\": \"https://vega.github.io/schema/vega-lite/v5.20.1.json\", \"datasets\": {\"data-fc07ac417e4773f4beaafe05b9f53c57\": [{\"Bus Name\": \"101     NUC-A       21.600\", \"Area Number\": 1, \"Zone Number\": 77, \"Volt (PU)\": 1.02, \"Volt (KV)\": 22.032, \"Angle (Deg)\": 16.5463, \"Gen MW\": 750.0, \"Gen MVAR\": 81.3072, \"Load MW\": 0.0, \"Load MVAR\": 0.0, \"Shunt MW\": 0.0, \"Shunt MVAR\": -0.0, \"To Bus Name\": NaN, \"MW\": 0.0, \"MVAR\": 0.0, \"Transformer Ratio\": NaN, \"Transformer Angle (Deg)\": 0.0, \"Percent\": 0, \"Rating\": null, \"Load Flow Case\": \"Load-MW = 3200, Gen-MW = 3258.64, Reactors-Mvar = 600, Capacitors-Mvar = 950, Load-Mvar = 1950\", \"Load\": \"Load-MW = 3200\"}, {\"Bus Name\": \"102     NUC-B       21.600\", \"Area Number\": 1, \"Zone Number\": 77, \"Volt (PU)\": 1.02, \"Volt (KV)\": 22.032, \"Angle (Deg)\": 16.5463, \"Gen MW\": 750.0, \"Gen MVAR\": 81.3072, \"Load MW\": 0.0, \"Load MVAR\": 0.0, \"Shunt MW\": 0.0, \"Shunt MVAR\": -0.0, \"To Bus Name\": NaN, \"MW\": 0.0, \"MVAR\": 0.0, \"Transformer Ratio\": NaN, \"Transformer Angle (Deg)\": 0.0, \"Percent\": 0, \"Rating\": null, \"Load Flow Case\": \"Load-MW = 3200, Gen-MW = 3258.64, Reactors-Mvar = 600, Capacitors-Mvar = 950, Load-Mvar = 1950\", \"Load\": \"Load-MW = 3200\"}, {\"Bus Name\": \"206     URBGEN      18.000\", \"Area Number\": 2, \"Zone Number\": 2, \"Volt (PU)\": 1.0238, \"Volt (KV)\": 18.4291, \"Angle (Deg)\": -2.9698, \"Gen MW\": 800.0, \"Gen MVAR\": 600.0, \"Load MW\": 0.0, \"Load MVAR\": 0.0, \"Shunt MW\": 0.0, \"Shunt MVAR\": -0.0, \"To Bus Name\": NaN, \"MW\": 0.0, \"MVAR\": 0.0, \"Transformer Ratio\": NaN, \"Transformer Angle (Deg)\": 0.0, \"Percent\": 0, \"Rating\": null, \"Load Flow Case\": \"Load-MW = 3200, Gen-MW = 3258.64, Reactors-Mvar = 600, Capacitors-Mvar = 950, Load-Mvar = 1950\", \"Load\": \"Load-MW = 3200\"}, {\"Bus Name\": \"211     HYDRO_G     20.000\", \"Area Number\": 2, \"Zone Number\": 2, \"Volt (PU)\": 1.0403, \"Volt (KV)\": 20.8069, \"Angle (Deg)\": 12.9206, \"Gen MW\": 600.0, \"Gen MVAR\": 17.3082, \"Load MW\": 0.0, \"Load MVAR\": 0.0, \"Shunt MW\": 0.0, \"Shunt MVAR\": -0.0, \"To Bus Name\": NaN, \"MW\": 0.0, \"MVAR\": 0.0, \"Transformer Ratio\": NaN, \"Transformer Angle (Deg)\": 0.0, \"Percent\": 0, \"Rating\": null, \"Load Flow Case\": \"Load-MW = 3200, Gen-MW = 3258.64, Reactors-Mvar = 600, Capacitors-Mvar = 950, Load-Mvar = 1950\", \"Load\": \"Load-MW = 3200\"}, {\"Bus Name\": \"3011     MINE_G      13.800\", \"Area Number\": 5, \"Zone Number\": 5, \"Volt (PU)\": 1.04, \"Volt (KV)\": 14.352, \"Angle (Deg)\": 0.0, \"Gen MW\": 258.6381, \"Gen MVAR\": 103.6063, \"Load MW\": 0.0, \"Load MVAR\": 0.0, \"Shunt MW\": 0.0, \"Shunt MVAR\": -0.0, \"To Bus Name\": NaN, \"MW\": 0.0, \"MVAR\": 0.0, \"Transformer Ratio\": NaN, \"Transformer Angle (Deg)\": 0.0, \"Percent\": 0, \"Rating\": null, \"Load Flow Case\": \"Load-MW = 3200, Gen-MW = 3258.64, Reactors-Mvar = 600, Capacitors-Mvar = 950, Load-Mvar = 1950\", \"Load\": \"Load-MW = 3200\"}, {\"Bus Name\": \"3018     CATDOG_G    13.800\", \"Area Number\": 5, \"Zone Number\": 5, \"Volt (PU)\": 1.022, \"Volt (KV)\": 14.1033, \"Angle (Deg)\": -4.0798, \"Gen MW\": 100.0, \"Gen MVAR\": 80.0, \"Load MW\": 0.0, \"Load MVAR\": 0.0, \"Shunt MW\": 0.0, \"Shunt MVAR\": -0.0, \"To Bus Name\": NaN, \"MW\": 0.0, \"MVAR\": 0.0, \"Transformer Ratio\": NaN, \"Transformer Angle (Deg)\": 0.0, \"Percent\": 0, \"Rating\": null, \"Load Flow Case\": \"Load-MW = 3200, Gen-MW = 3258.64, Reactors-Mvar = 600, Capacitors-Mvar = 950, Load-Mvar = 1950\", \"Load\": \"Load-MW = 3200\"}, {\"Bus Name\": \"101     NUC-A       21.600\", \"Area Number\": 1, \"Zone Number\": 77, \"Volt (PU)\": 1.02, \"Volt (KV)\": 22.032, \"Angle (Deg)\": 14.9336, \"Gen MW\": 750.0, \"Gen MVAR\": 84.1604, \"Load MW\": 0.0, \"Load MVAR\": 0.0, \"Shunt MW\": 0.0, \"Shunt MVAR\": -0.0, \"To Bus Name\": NaN, \"MW\": 0.0, \"MVAR\": 0.0, \"Transformer Ratio\": NaN, \"Transformer Angle (Deg)\": 0.0, \"Percent\": 0, \"Rating\": null, \"Load Flow Case\": \"Load-MW = 3264, Gen-MW = 3324.8, Reactors-Mvar = 600, Capacitors-Mvar = 950, Load-Mvar = 1950\", \"Load\": \"Load-MW = 3264\"}, {\"Bus Name\": \"102     NUC-B       21.600\", \"Area Number\": 1, \"Zone Number\": 77, \"Volt (PU)\": 1.02, \"Volt (KV)\": 22.032, \"Angle (Deg)\": 14.9336, \"Gen MW\": 750.0, \"Gen MVAR\": 84.1604, \"Load MW\": 0.0, \"Load MVAR\": 0.0, \"Shunt MW\": 0.0, \"Shunt MVAR\": -0.0, \"To Bus Name\": NaN, \"MW\": 0.0, \"MVAR\": 0.0, \"Transformer Ratio\": NaN, \"Transformer Angle (Deg)\": 0.0, \"Percent\": 0, \"Rating\": null, \"Load Flow Case\": \"Load-MW = 3264, Gen-MW = 3324.8, Reactors-Mvar = 600, Capacitors-Mvar = 950, Load-Mvar = 1950\", \"Load\": \"Load-MW = 3264\"}, {\"Bus Name\": \"206     URBGEN      18.000\", \"Area Number\": 2, \"Zone Number\": 2, \"Volt (PU)\": 1.0201, \"Volt (KV)\": 18.362, \"Angle (Deg)\": -4.8025, \"Gen MW\": 800.0, \"Gen MVAR\": 600.0, \"Load MW\": 0.0, \"Load MVAR\": 0.0, \"Shunt MW\": 0.0, \"Shunt MVAR\": -0.0, \"To Bus Name\": NaN, \"MW\": 0.0, \"MVAR\": 0.0, \"Transformer Ratio\": NaN, \"Transformer Angle (Deg)\": 0.0, \"Percent\": 0, \"Rating\": null, \"Load Flow Case\": \"Load-MW = 3264, Gen-MW = 3324.8, Reactors-Mvar = 600, Capacitors-Mvar = 950, Load-Mvar = 1950\", \"Load\": \"Load-MW = 3264\"}, {\"Bus Name\": \"211     HYDRO_G     20.000\", \"Area Number\": 2, \"Zone Number\": 2, \"Volt (PU)\": 1.0451, \"Volt (KV)\": 20.9027, \"Angle (Deg)\": 11.22, \"Gen MW\": 600.0, \"Gen MVAR\": 40.686, \"Load MW\": 0.0, \"Load MVAR\": 0.0, \"Shunt MW\": 0.0, \"Shunt MVAR\": -0.0, \"To Bus Name\": NaN, \"MW\": 0.0, \"MVAR\": 0.0, \"Transformer Ratio\": NaN, \"Transformer Angle (Deg)\": 0.0, \"Percent\": 0, \"Rating\": null, \"Load Flow Case\": \"Load-MW = 3264, Gen-MW = 3324.8, Reactors-Mvar = 600, Capacitors-Mvar = 950, Load-Mvar = 1950\", \"Load\": \"Load-MW = 3264\"}, {\"Bus Name\": \"3011     MINE_G      13.800\", \"Area Number\": 5, \"Zone Number\": 5, \"Volt (PU)\": 1.04, \"Volt (KV)\": 14.352, \"Angle (Deg)\": 0.0, \"Gen MW\": 324.7779, \"Gen MVAR\": 113.8841, \"Load MW\": 0.0, \"Load MVAR\": 0.0, \"Shunt MW\": 0.0, \"Shunt MVAR\": -0.0, \"To Bus Name\": NaN, \"MW\": 0.0, \"MVAR\": 0.0, \"Transformer Ratio\": NaN, \"Transformer Angle (Deg)\": 0.0, \"Percent\": 0, \"Rating\": null, \"Load Flow Case\": \"Load-MW = 3264, Gen-MW = 3324.8, Reactors-Mvar = 600, Capacitors-Mvar = 950, Load-Mvar = 1950\", \"Load\": \"Load-MW = 3264\"}, {\"Bus Name\": \"3018     CATDOG_G    13.800\", \"Area Number\": 5, \"Zone Number\": 5, \"Volt (PU)\": 1.0183, \"Volt (KV)\": 14.0525, \"Angle (Deg)\": -5.6454, \"Gen MW\": 100.0, \"Gen MVAR\": 80.0, \"Load MW\": 0.0, \"Load MVAR\": 0.0, \"Shunt MW\": 0.0, \"Shunt MVAR\": -0.0, \"To Bus Name\": NaN, \"MW\": 0.0, \"MVAR\": 0.0, \"Transformer Ratio\": NaN, \"Transformer Angle (Deg)\": 0.0, \"Percent\": 0, \"Rating\": null, \"Load Flow Case\": \"Load-MW = 3264, Gen-MW = 3324.8, Reactors-Mvar = 600, Capacitors-Mvar = 950, Load-Mvar = 1950\", \"Load\": \"Load-MW = 3264\"}, {\"Bus Name\": \"101     NUC-A       21.600\", \"Area Number\": 1, \"Zone Number\": 77, \"Volt (PU)\": 1.02, \"Volt (KV)\": 22.032, \"Angle (Deg)\": 13.2688, \"Gen MW\": 750.0, \"Gen MVAR\": 87.5561, \"Load MW\": 0.0, \"Load MVAR\": 0.0, \"Shunt MW\": 0.0, \"Shunt MVAR\": -0.0, \"To Bus Name\": NaN, \"MW\": 0.0, \"MVAR\": 0.0, \"Transformer Ratio\": NaN, \"Transformer Angle (Deg)\": 0.0, \"Percent\": 0, \"Rating\": null, \"Load Flow Case\": \"Load-MW = 3329.3, Gen-MW = 3392.7, Reactors-Mvar = 600, Capacitors-Mvar = 950, Load-Mvar = 1950\", \"Load\": \"Load-MW = 3329.3\"}, {\"Bus Name\": \"102     NUC-B       21.600\", \"Area Number\": 1, \"Zone Number\": 77, \"Volt (PU)\": 1.02, \"Volt (KV)\": 22.032, \"Angle (Deg)\": 13.2688, \"Gen MW\": 750.0, \"Gen MVAR\": 87.5561, \"Load MW\": 0.0, \"Load MVAR\": 0.0, \"Shunt MW\": 0.0, \"Shunt MVAR\": -0.0, \"To Bus Name\": NaN, \"MW\": 0.0, \"MVAR\": 0.0, \"Transformer Ratio\": NaN, \"Transformer Angle (Deg)\": 0.0, \"Percent\": 0, \"Rating\": null, \"Load Flow Case\": \"Load-MW = 3329.3, Gen-MW = 3392.7, Reactors-Mvar = 600, Capacitors-Mvar = 950, Load-Mvar = 1950\", \"Load\": \"Load-MW = 3329.3\"}, {\"Bus Name\": \"206     URBGEN      18.000\", \"Area Number\": 2, \"Zone Number\": 2, \"Volt (PU)\": 1.0158, \"Volt (KV)\": 18.2852, \"Angle (Deg)\": -6.6985, \"Gen MW\": 800.0, \"Gen MVAR\": 600.0, \"Load MW\": 0.0, \"Load MVAR\": 0.0, \"Shunt MW\": 0.0, \"Shunt MVAR\": -0.0, \"To Bus Name\": NaN, \"MW\": 0.0, \"MVAR\": 0.0, \"Transformer Ratio\": NaN, \"Transformer Angle (Deg)\": 0.0, \"Percent\": 0, \"Rating\": null, \"Load Flow Case\": \"Load-MW = 3329.3, Gen-MW = 3392.7, Reactors-Mvar = 600, Capacitors-Mvar = 950, Load-Mvar = 1950\", \"Load\": \"Load-MW = 3329.3\"}, {\"Bus Name\": \"211     HYDRO_G     20.000\", \"Area Number\": 2, \"Zone Number\": 2, \"Volt (PU)\": 1.0507, \"Volt (KV)\": 21.0133, \"Angle (Deg)\": 9.4582, \"Gen MW\": 600.0, \"Gen MVAR\": 67.8726, \"Load MW\": 0.0, \"Load MVAR\": 0.0, \"Shunt MW\": 0.0, \"Shunt MVAR\": -0.0, \"To Bus Name\": NaN, \"MW\": 0.0, \"MVAR\": 0.0, \"Transformer Ratio\": NaN, \"Transformer Angle (Deg)\": 0.0, \"Percent\": 0, \"Rating\": null, \"Load Flow Case\": \"Load-MW = 3329.3, Gen-MW = 3392.7, Reactors-Mvar = 600, Capacitors-Mvar = 950, Load-Mvar = 1950\", \"Load\": \"Load-MW = 3329.3\"}, {\"Bus Name\": \"3011     MINE_G      13.800\", \"Area Number\": 5, \"Zone Number\": 5, \"Volt (PU)\": 1.04, \"Volt (KV)\": 14.352, \"Angle (Deg)\": 0.0, \"Gen MW\": 392.6779, \"Gen MVAR\": 127.5146, \"Load MW\": 0.0, \"Load MVAR\": 0.0, \"Shunt MW\": 0.0, \"Shunt MVAR\": -0.0, \"To Bus Name\": NaN, \"MW\": 0.0, \"MVAR\": 0.0, \"Transformer Ratio\": NaN, \"Transformer Angle (Deg)\": 0.0, \"Percent\": 0, \"Rating\": null, \"Load Flow Case\": \"Load-MW = 3329.3, Gen-MW = 3392.7, Reactors-Mvar = 600, Capacitors-Mvar = 950, Load-Mvar = 1950\", \"Load\": \"Load-MW = 3329.3\"}, {\"Bus Name\": \"3018     CATDOG_G    13.800\", \"Area Number\": 5, \"Zone Number\": 5, \"Volt (PU)\": 1.014, \"Volt (KV)\": 13.9932, \"Angle (Deg)\": -7.2647, \"Gen MW\": 100.0, \"Gen MVAR\": 80.0, \"Load MW\": 0.0, \"Load MVAR\": 0.0, \"Shunt MW\": 0.0, \"Shunt MVAR\": -0.0, \"To Bus Name\": NaN, \"MW\": 0.0, \"MVAR\": 0.0, \"Transformer Ratio\": NaN, \"Transformer Angle (Deg)\": 0.0, \"Percent\": 0, \"Rating\": null, \"Load Flow Case\": \"Load-MW = 3329.3, Gen-MW = 3392.7, Reactors-Mvar = 600, Capacitors-Mvar = 950, Load-Mvar = 1950\", \"Load\": \"Load-MW = 3329.3\"}, {\"Bus Name\": \"101     NUC-A       21.600\", \"Area Number\": 1, \"Zone Number\": 77, \"Volt (PU)\": 1.02, \"Volt (KV)\": 22.032, \"Angle (Deg)\": 11.5447, \"Gen MW\": 750.0, \"Gen MVAR\": 91.5629, \"Load MW\": 0.0, \"Load MVAR\": 0.0, \"Shunt MW\": 0.0, \"Shunt MVAR\": -0.0, \"To Bus Name\": NaN, \"MW\": 0.0, \"MVAR\": 0.0, \"Transformer Ratio\": NaN, \"Transformer Angle (Deg)\": 0.0, \"Percent\": 0, \"Rating\": null, \"Load Flow Case\": \"Load-MW = 3395.9, Gen-MW = 3462.4, Reactors-Mvar = 600, Capacitors-Mvar = 950, Load-Mvar = 1950\", \"Load\": \"Load-MW = 3395.9\"}, {\"Bus Name\": \"102     NUC-B       21.600\", \"Area Number\": 1, \"Zone Number\": 77, \"Volt (PU)\": 1.02, \"Volt (KV)\": 22.032, \"Angle (Deg)\": 11.5447, \"Gen MW\": 750.0, \"Gen MVAR\": 91.5629, \"Load MW\": 0.0, \"Load MVAR\": 0.0, \"Shunt MW\": 0.0, \"Shunt MVAR\": -0.0, \"To Bus Name\": NaN, \"MW\": 0.0, \"MVAR\": 0.0, \"Transformer Ratio\": NaN, \"Transformer Angle (Deg)\": 0.0, \"Percent\": 0, \"Rating\": null, \"Load Flow Case\": \"Load-MW = 3395.9, Gen-MW = 3462.4, Reactors-Mvar = 600, Capacitors-Mvar = 950, Load-Mvar = 1950\", \"Load\": \"Load-MW = 3395.9\"}, {\"Bus Name\": \"206     URBGEN      18.000\", \"Area Number\": 2, \"Zone Number\": 2, \"Volt (PU)\": 1.011, \"Volt (KV)\": 18.1972, \"Angle (Deg)\": -8.6666, \"Gen MW\": 800.0, \"Gen MVAR\": 600.0, \"Load MW\": 0.0, \"Load MVAR\": 0.0, \"Shunt MW\": 0.0, \"Shunt MVAR\": -0.0, \"To Bus Name\": NaN, \"MW\": 0.0, \"MVAR\": 0.0, \"Transformer Ratio\": NaN, \"Transformer Angle (Deg)\": 0.0, \"Percent\": 0, \"Rating\": null, \"Load Flow Case\": \"Load-MW = 3395.9, Gen-MW = 3462.4, Reactors-Mvar = 600, Capacitors-Mvar = 950, Load-Mvar = 1950\", \"Load\": \"Load-MW = 3395.9\"}, {\"Bus Name\": \"211     HYDRO_G     20.000\", \"Area Number\": 2, \"Zone Number\": 2, \"Volt (PU)\": 1.057, \"Volt (KV)\": 21.1403, \"Angle (Deg)\": 7.6274, \"Gen MW\": 600.0, \"Gen MVAR\": 99.4603, \"Load MW\": 0.0, \"Load MVAR\": 0.0, \"Shunt MW\": 0.0, \"Shunt MVAR\": -0.0, \"To Bus Name\": NaN, \"MW\": 0.0, \"MVAR\": 0.0, \"Transformer Ratio\": NaN, \"Transformer Angle (Deg)\": 0.0, \"Percent\": 0, \"Rating\": null, \"Load Flow Case\": \"Load-MW = 3395.9, Gen-MW = 3462.4, Reactors-Mvar = 600, Capacitors-Mvar = 950, Load-Mvar = 1950\", \"Load\": \"Load-MW = 3395.9\"}, {\"Bus Name\": \"3011     MINE_G      13.800\", \"Area Number\": 5, \"Zone Number\": 5, \"Volt (PU)\": 1.04, \"Volt (KV)\": 14.352, \"Angle (Deg)\": 0.0, \"Gen MW\": 462.4306, \"Gen MVAR\": 144.875, \"Load MW\": 0.0, \"Load MVAR\": 0.0, \"Shunt MW\": 0.0, \"Shunt MVAR\": -0.0, \"To Bus Name\": NaN, \"MW\": 0.0, \"MVAR\": 0.0, \"Transformer Ratio\": NaN, \"Transformer Angle (Deg)\": 0.0, \"Percent\": 0, \"Rating\": null, \"Load Flow Case\": \"Load-MW = 3395.9, Gen-MW = 3462.4, Reactors-Mvar = 600, Capacitors-Mvar = 950, Load-Mvar = 1950\", \"Load\": \"Load-MW = 3395.9\"}, {\"Bus Name\": \"3018     CATDOG_G    13.800\", \"Area Number\": 5, \"Zone Number\": 5, \"Volt (PU)\": 1.009, \"Volt (KV)\": 13.9242, \"Angle (Deg)\": -8.9449, \"Gen MW\": 100.0, \"Gen MVAR\": 80.0, \"Load MW\": 0.0, \"Load MVAR\": 0.0, \"Shunt MW\": 0.0, \"Shunt MVAR\": -0.0, \"To Bus Name\": NaN, \"MW\": 0.0, \"MVAR\": 0.0, \"Transformer Ratio\": NaN, \"Transformer Angle (Deg)\": 0.0, \"Percent\": 0, \"Rating\": null, \"Load Flow Case\": \"Load-MW = 3395.9, Gen-MW = 3462.4, Reactors-Mvar = 600, Capacitors-Mvar = 950, Load-Mvar = 1950\", \"Load\": \"Load-MW = 3395.9\"}, {\"Bus Name\": \"101     NUC-A       21.600\", \"Area Number\": 1, \"Zone Number\": 77, \"Volt (PU)\": 1.02, \"Volt (KV)\": 22.032, \"Angle (Deg)\": 9.7527, \"Gen MW\": 750.0001, \"Gen MVAR\": 96.2716, \"Load MW\": 0.0, \"Load MVAR\": 0.0, \"Shunt MW\": 0.0, \"Shunt MVAR\": -0.0, \"To Bus Name\": NaN, \"MW\": 0.0, \"MVAR\": 0.0, \"Transformer Ratio\": NaN, \"Transformer Angle (Deg)\": 0.0, \"Percent\": 0, \"Rating\": null, \"Load Flow Case\": \"Load-MW = 3463.8, Gen-MW = 3534.1, Reactors-Mvar = 600, Capacitors-Mvar = 950, Load-Mvar = 1950\", \"Load\": \"Load-MW = 3463.8\"}, {\"Bus Name\": \"102     NUC-B       21.600\", \"Area Number\": 1, \"Zone Number\": 77, \"Volt (PU)\": 1.02, \"Volt (KV)\": 22.032, \"Angle (Deg)\": 9.7527, \"Gen MW\": 750.0001, \"Gen MVAR\": 96.2716, \"Load MW\": 0.0, \"Load MVAR\": 0.0, \"Shunt MW\": 0.0, \"Shunt MVAR\": -0.0, \"To Bus Name\": NaN, \"MW\": 0.0, \"MVAR\": 0.0, \"Transformer Ratio\": NaN, \"Transformer Angle (Deg)\": 0.0, \"Percent\": 0, \"Rating\": null, \"Load Flow Case\": \"Load-MW = 3463.8, Gen-MW = 3534.1, Reactors-Mvar = 600, Capacitors-Mvar = 950, Load-Mvar = 1950\", \"Load\": \"Load-MW = 3463.8\"}, {\"Bus Name\": \"206     URBGEN      18.000\", \"Area Number\": 2, \"Zone Number\": 2, \"Volt (PU)\": 1.0053, \"Volt (KV)\": 18.0963, \"Angle (Deg)\": -10.7172, \"Gen MW\": 800.0001, \"Gen MVAR\": 600.0, \"Load MW\": 0.0, \"Load MVAR\": 0.0, \"Shunt MW\": 0.0, \"Shunt MVAR\": -0.0, \"To Bus Name\": NaN, \"MW\": 0.0, \"MVAR\": 0.0, \"Transformer Ratio\": NaN, \"Transformer Angle (Deg)\": 0.0, \"Percent\": 0, \"Rating\": null, \"Load Flow Case\": \"Load-MW = 3463.8, Gen-MW = 3534.1, Reactors-Mvar = 600, Capacitors-Mvar = 950, Load-Mvar = 1950\", \"Load\": \"Load-MW = 3463.8\"}, {\"Bus Name\": \"211     HYDRO_G     20.000\", \"Area Number\": 2, \"Zone Number\": 2, \"Volt (PU)\": 1.0643, \"Volt (KV)\": 21.2862, \"Angle (Deg)\": 5.7175, \"Gen MW\": 600.0001, \"Gen MVAR\": 136.2349, \"Load MW\": 0.0, \"Load MVAR\": 0.0, \"Shunt MW\": 0.0, \"Shunt MVAR\": -0.0, \"To Bus Name\": NaN, \"MW\": 0.0, \"MVAR\": 0.0, \"Transformer Ratio\": NaN, \"Transformer Angle (Deg)\": 0.0, \"Percent\": 0, \"Rating\": null, \"Load Flow Case\": \"Load-MW = 3463.8, Gen-MW = 3534.1, Reactors-Mvar = 600, Capacitors-Mvar = 950, Load-Mvar = 1950\", \"Load\": \"Load-MW = 3463.8\"}, {\"Bus Name\": \"3011     MINE_G      13.800\", \"Area Number\": 5, \"Zone Number\": 5, \"Volt (PU)\": 1.04, \"Volt (KV)\": 14.352, \"Angle (Deg)\": 0.0, \"Gen MW\": 534.142, \"Gen MVAR\": 166.4364, \"Load MW\": 0.0, \"Load MVAR\": 0.0, \"Shunt MW\": 0.0, \"Shunt MVAR\": -0.0, \"To Bus Name\": NaN, \"MW\": 0.0, \"MVAR\": 0.0, \"Transformer Ratio\": NaN, \"Transformer Angle (Deg)\": 0.0, \"Percent\": 0, \"Rating\": null, \"Load Flow Case\": \"Load-MW = 3463.8, Gen-MW = 3534.1, Reactors-Mvar = 600, Capacitors-Mvar = 950, Load-Mvar = 1950\", \"Load\": \"Load-MW = 3463.8\"}, {\"Bus Name\": \"3018     CATDOG_G    13.800\", \"Area Number\": 5, \"Zone Number\": 5, \"Volt (PU)\": 1.0032, \"Volt (KV)\": 13.8441, \"Angle (Deg)\": -10.6948, \"Gen MW\": 100.0, \"Gen MVAR\": 80.0, \"Load MW\": 0.0, \"Load MVAR\": 0.0, \"Shunt MW\": 0.0, \"Shunt MVAR\": -0.0, \"To Bus Name\": NaN, \"MW\": 0.0, \"MVAR\": 0.0, \"Transformer Ratio\": NaN, \"Transformer Angle (Deg)\": 0.0, \"Percent\": 0, \"Rating\": null, \"Load Flow Case\": \"Load-MW = 3463.8, Gen-MW = 3534.1, Reactors-Mvar = 600, Capacitors-Mvar = 950, Load-Mvar = 1950\", \"Load\": \"Load-MW = 3463.8\"}, {\"Bus Name\": \"101     NUC-A       21.600\", \"Area Number\": 1, \"Zone Number\": 77, \"Volt (PU)\": 1.02, \"Volt (KV)\": 22.032, \"Angle (Deg)\": 7.8823, \"Gen MW\": 750.0001, \"Gen MVAR\": 101.806, \"Load MW\": 0.0, \"Load MVAR\": 0.0, \"Shunt MW\": 0.0, \"Shunt MVAR\": -0.0, \"To Bus Name\": NaN, \"MW\": 0.0, \"MVAR\": 0.0, \"Transformer Ratio\": NaN, \"Transformer Angle (Deg)\": 0.0, \"Percent\": 0, \"Rating\": null, \"Load Flow Case\": \"Load-MW = 3533.1, Gen-MW = 3607.9, Reactors-Mvar = 600, Capacitors-Mvar = 950, Load-Mvar = 1950\", \"Load\": \"Load-MW = 3533.1\"}, {\"Bus Name\": \"102     NUC-B       21.600\", \"Area Number\": 1, \"Zone Number\": 77, \"Volt (PU)\": 1.02, \"Volt (KV)\": 22.032, \"Angle (Deg)\": 7.8823, \"Gen MW\": 750.0001, \"Gen MVAR\": 101.806, \"Load MW\": 0.0, \"Load MVAR\": 0.0, \"Shunt MW\": 0.0, \"Shunt MVAR\": -0.0, \"To Bus Name\": NaN, \"MW\": 0.0, \"MVAR\": 0.0, \"Transformer Ratio\": NaN, \"Transformer Angle (Deg)\": 0.0, \"Percent\": 0, \"Rating\": null, \"Load Flow Case\": \"Load-MW = 3533.1, Gen-MW = 3607.9, Reactors-Mvar = 600, Capacitors-Mvar = 950, Load-Mvar = 1950\", \"Load\": \"Load-MW = 3533.1\"}, {\"Bus Name\": \"206     URBGEN      18.000\", \"Area Number\": 2, \"Zone Number\": 2, \"Volt (PU)\": 0.9989, \"Volt (KV)\": 17.9801, \"Angle (Deg)\": -12.8635, \"Gen MW\": 800.0001, \"Gen MVAR\": 600.0, \"Load MW\": 0.0, \"Load MVAR\": 0.0, \"Shunt MW\": 0.0, \"Shunt MVAR\": -0.0, \"To Bus Name\": NaN, \"MW\": 0.0, \"MVAR\": 0.0, \"Transformer Ratio\": NaN, \"Transformer Angle (Deg)\": 0.0, \"Percent\": 0, \"Rating\": null, \"Load Flow Case\": \"Load-MW = 3533.1, Gen-MW = 3607.9, Reactors-Mvar = 600, Capacitors-Mvar = 950, Load-Mvar = 1950\", \"Load\": \"Load-MW = 3533.1\"}, {\"Bus Name\": \"211     HYDRO_G     20.000\", \"Area Number\": 2, \"Zone Number\": 2, \"Volt (PU)\": 1.0727, \"Volt (KV)\": 21.4548, \"Angle (Deg)\": 3.7157, \"Gen MW\": 600.0001, \"Gen MVAR\": 179.2821, \"Load MW\": 0.0, \"Load MVAR\": 0.0, \"Shunt MW\": 0.0, \"Shunt MVAR\": -0.0, \"To Bus Name\": NaN, \"MW\": 0.0, \"MVAR\": 0.0, \"Transformer Ratio\": NaN, \"Transformer Angle (Deg)\": 0.0, \"Percent\": 0, \"Rating\": null, \"Load Flow Case\": \"Load-MW = 3533.1, Gen-MW = 3607.9, Reactors-Mvar = 600, Capacitors-Mvar = 950, Load-Mvar = 1950\", \"Load\": \"Load-MW = 3533.1\"}, {\"Bus Name\": \"3011     MINE_G      13.800\", \"Area Number\": 5, \"Zone Number\": 5, \"Volt (PU)\": 1.04, \"Volt (KV)\": 14.352, \"Angle (Deg)\": 0.0, \"Gen MW\": 607.9371, \"Gen MVAR\": 192.8049, \"Load MW\": 0.0, \"Load MVAR\": 0.0, \"Shunt MW\": 0.0, \"Shunt MVAR\": -0.0, \"To Bus Name\": NaN, \"MW\": 0.0, \"MVAR\": 0.0, \"Transformer Ratio\": NaN, \"Transformer Angle (Deg)\": 0.0, \"Percent\": 0, \"Rating\": null, \"Load Flow Case\": \"Load-MW = 3533.1, Gen-MW = 3607.9, Reactors-Mvar = 600, Capacitors-Mvar = 950, Load-Mvar = 1950\", \"Load\": \"Load-MW = 3533.1\"}, {\"Bus Name\": \"3018     CATDOG_G    13.800\", \"Area Number\": 5, \"Zone Number\": 5, \"Volt (PU)\": 0.9964, \"Volt (KV)\": 13.7509, \"Angle (Deg)\": -12.5253, \"Gen MW\": 100.0, \"Gen MVAR\": 80.0, \"Load MW\": 0.0, \"Load MVAR\": 0.0, \"Shunt MW\": 0.0, \"Shunt MVAR\": -0.0, \"To Bus Name\": NaN, \"MW\": 0.0, \"MVAR\": 0.0, \"Transformer Ratio\": NaN, \"Transformer Angle (Deg)\": 0.0, \"Percent\": 0, \"Rating\": null, \"Load Flow Case\": \"Load-MW = 3533.1, Gen-MW = 3607.9, Reactors-Mvar = 600, Capacitors-Mvar = 950, Load-Mvar = 1950\", \"Load\": \"Load-MW = 3533.1\"}, {\"Bus Name\": \"101     NUC-A       21.600\", \"Area Number\": 1, \"Zone Number\": 77, \"Volt (PU)\": 1.02, \"Volt (KV)\": 22.032, \"Angle (Deg)\": 5.9191, \"Gen MW\": 750.0, \"Gen MVAR\": 108.3137, \"Load MW\": 0.0, \"Load MVAR\": 0.0, \"Shunt MW\": 0.0, \"Shunt MVAR\": -0.0, \"To Bus Name\": NaN, \"MW\": 0.0, \"MVAR\": 0.0, \"Transformer Ratio\": NaN, \"Transformer Angle (Deg)\": 0.0, \"Percent\": 0, \"Rating\": null, \"Load Flow Case\": \"Load-MW = 3603.7, Gen-MW = 3684.0, Reactors-Mvar = 600, Capacitors-Mvar = 950, Load-Mvar = 1950\", \"Load\": \"Load-MW = 3603.7\"}, {\"Bus Name\": \"102     NUC-B       21.600\", \"Area Number\": 1, \"Zone Number\": 77, \"Volt (PU)\": 1.02, \"Volt (KV)\": 22.032, \"Angle (Deg)\": 5.9191, \"Gen MW\": 750.0, \"Gen MVAR\": 108.3137, \"Load MW\": 0.0, \"Load MVAR\": 0.0, \"Shunt MW\": 0.0, \"Shunt MVAR\": -0.0, \"To Bus Name\": NaN, \"MW\": 0.0, \"MVAR\": 0.0, \"Transformer Ratio\": NaN, \"Transformer Angle (Deg)\": 0.0, \"Percent\": 0, \"Rating\": null, \"Load Flow Case\": \"Load-MW = 3603.7, Gen-MW = 3684.0, Reactors-Mvar = 600, Capacitors-Mvar = 950, Load-Mvar = 1950\", \"Load\": \"Load-MW = 3603.7\"}, {\"Bus Name\": \"206     URBGEN      18.000\", \"Area Number\": 2, \"Zone Number\": 2, \"Volt (PU)\": 0.9914, \"Volt (KV)\": 17.8459, \"Angle (Deg)\": -15.1227, \"Gen MW\": 799.9999, \"Gen MVAR\": 600.0, \"Load MW\": 0.0, \"Load MVAR\": 0.0, \"Shunt MW\": 0.0, \"Shunt MVAR\": -0.0, \"To Bus Name\": NaN, \"MW\": 0.0, \"MVAR\": 0.0, \"Transformer Ratio\": NaN, \"Transformer Angle (Deg)\": 0.0, \"Percent\": 0, \"Rating\": null, \"Load Flow Case\": \"Load-MW = 3603.7, Gen-MW = 3684.0, Reactors-Mvar = 600, Capacitors-Mvar = 950, Load-Mvar = 1950\", \"Load\": \"Load-MW = 3603.7\"}, {\"Bus Name\": \"211     HYDRO_G     20.000\", \"Area Number\": 2, \"Zone Number\": 2, \"Volt (PU)\": 1.0825, \"Volt (KV)\": 21.6498, \"Angle (Deg)\": 1.6063, \"Gen MW\": 600.0, \"Gen MVAR\": 229.9518, \"Load MW\": 0.0, \"Load MVAR\": 0.0, \"Shunt MW\": 0.0, \"Shunt MVAR\": -0.0, \"To Bus Name\": NaN, \"MW\": 0.0, \"MVAR\": 0.0, \"Transformer Ratio\": NaN, \"Transformer Angle (Deg)\": 0.0, \"Percent\": 0, \"Rating\": null, \"Load Flow Case\": \"Load-MW = 3603.7, Gen-MW = 3684.0, Reactors-Mvar = 600, Capacitors-Mvar = 950, Load-Mvar = 1950\", \"Load\": \"Load-MW = 3603.7\"}, {\"Bus Name\": \"3011     MINE_G      13.800\", \"Area Number\": 5, \"Zone Number\": 5, \"Volt (PU)\": 1.04, \"Volt (KV)\": 14.352, \"Angle (Deg)\": 0.0, \"Gen MW\": 683.983, \"Gen MVAR\": 224.722, \"Load MW\": 0.0, \"Load MVAR\": 0.0, \"Shunt MW\": 0.0, \"Shunt MVAR\": -0.0, \"To Bus Name\": NaN, \"MW\": 0.0, \"MVAR\": 0.0, \"Transformer Ratio\": NaN, \"Transformer Angle (Deg)\": 0.0, \"Percent\": 0, \"Rating\": null, \"Load Flow Case\": \"Load-MW = 3603.7, Gen-MW = 3684.0, Reactors-Mvar = 600, Capacitors-Mvar = 950, Load-Mvar = 1950\", \"Load\": \"Load-MW = 3603.7\"}, {\"Bus Name\": \"3018     CATDOG_G    13.800\", \"Area Number\": 5, \"Zone Number\": 5, \"Volt (PU)\": 0.9886, \"Volt (KV)\": 13.6424, \"Angle (Deg)\": -14.4509, \"Gen MW\": 100.0, \"Gen MVAR\": 80.0, \"Load MW\": 0.0, \"Load MVAR\": 0.0, \"Shunt MW\": 0.0, \"Shunt MVAR\": -0.0, \"To Bus Name\": NaN, \"MW\": 0.0, \"MVAR\": 0.0, \"Transformer Ratio\": NaN, \"Transformer Angle (Deg)\": 0.0, \"Percent\": 0, \"Rating\": null, \"Load Flow Case\": \"Load-MW = 3603.7, Gen-MW = 3684.0, Reactors-Mvar = 600, Capacitors-Mvar = 950, Load-Mvar = 1950\", \"Load\": \"Load-MW = 3603.7\"}, {\"Bus Name\": \"101     NUC-A       21.600\", \"Area Number\": 1, \"Zone Number\": 77, \"Volt (PU)\": 1.02, \"Volt (KV)\": 22.032, \"Angle (Deg)\": 3.8447, \"Gen MW\": 750.0, \"Gen MVAR\": 116.0092, \"Load MW\": 0.0, \"Load MVAR\": 0.0, \"Shunt MW\": 0.0, \"Shunt MVAR\": -0.0, \"To Bus Name\": NaN, \"MW\": 0.0, \"MVAR\": 0.0, \"Transformer Ratio\": NaN, \"Transformer Angle (Deg)\": 0.0, \"Percent\": 0, \"Rating\": null, \"Load Flow Case\": \"Load-MW = 3675.7, Gen-MW = 3762.5, Reactors-Mvar = 600, Capacitors-Mvar = 950, Load-Mvar = 1950\", \"Load\": \"Load-MW = 3675.7\"}, {\"Bus Name\": \"102     NUC-B       21.600\", \"Area Number\": 1, \"Zone Number\": 77, \"Volt (PU)\": 1.02, \"Volt (KV)\": 22.032, \"Angle (Deg)\": 3.8447, \"Gen MW\": 750.0, \"Gen MVAR\": 116.0092, \"Load MW\": 0.0, \"Load MVAR\": 0.0, \"Shunt MW\": 0.0, \"Shunt MVAR\": -0.0, \"To Bus Name\": NaN, \"MW\": 0.0, \"MVAR\": 0.0, \"Transformer Ratio\": NaN, \"Transformer Angle (Deg)\": 0.0, \"Percent\": 0, \"Rating\": null, \"Load Flow Case\": \"Load-MW = 3675.7, Gen-MW = 3762.5, Reactors-Mvar = 600, Capacitors-Mvar = 950, Load-Mvar = 1950\", \"Load\": \"Load-MW = 3675.7\"}, {\"Bus Name\": \"206     URBGEN      18.000\", \"Area Number\": 2, \"Zone Number\": 2, \"Volt (PU)\": 0.9827, \"Volt (KV)\": 17.6894, \"Angle (Deg)\": -17.5177, \"Gen MW\": 799.9999, \"Gen MVAR\": 600.0, \"Load MW\": 0.0, \"Load MVAR\": 0.0, \"Shunt MW\": 0.0, \"Shunt MVAR\": -0.0, \"To Bus Name\": NaN, \"MW\": 0.0, \"MVAR\": 0.0, \"Transformer Ratio\": NaN, \"Transformer Angle (Deg)\": 0.0, \"Percent\": 0, \"Rating\": null, \"Load Flow Case\": \"Load-MW = 3675.7, Gen-MW = 3762.5, Reactors-Mvar = 600, Capacitors-Mvar = 950, Load-Mvar = 1950\", \"Load\": \"Load-MW = 3675.7\"}, {\"Bus Name\": \"211     HYDRO_G     20.000\", \"Area Number\": 2, \"Zone Number\": 2, \"Volt (PU)\": 1.0939, \"Volt (KV)\": 21.8772, \"Angle (Deg)\": -0.6327, \"Gen MW\": 600.0, \"Gen MVAR\": 290.2203, \"Load MW\": 0.0, \"Load MVAR\": 0.0, \"Shunt MW\": 0.0, \"Shunt MVAR\": -0.0, \"To Bus Name\": NaN, \"MW\": 0.0, \"MVAR\": 0.0, \"Transformer Ratio\": NaN, \"Transformer Angle (Deg)\": 0.0, \"Percent\": 0, \"Rating\": null, \"Load Flow Case\": \"Load-MW = 3675.7, Gen-MW = 3762.5, Reactors-Mvar = 600, Capacitors-Mvar = 950, Load-Mvar = 1950\", \"Load\": \"Load-MW = 3675.7\"}, {\"Bus Name\": \"3011     MINE_G      13.800\", \"Area Number\": 5, \"Zone Number\": 5, \"Volt (PU)\": 1.04, \"Volt (KV)\": 14.352, \"Angle (Deg)\": 0.0, \"Gen MW\": 762.485, \"Gen MVAR\": 263.2002, \"Load MW\": 0.0, \"Load MVAR\": 0.0, \"Shunt MW\": 0.0, \"Shunt MVAR\": -0.0, \"To Bus Name\": NaN, \"MW\": 0.0, \"MVAR\": 0.0, \"Transformer Ratio\": NaN, \"Transformer Angle (Deg)\": 0.0, \"Percent\": 0, \"Rating\": null, \"Load Flow Case\": \"Load-MW = 3675.7, Gen-MW = 3762.5, Reactors-Mvar = 600, Capacitors-Mvar = 950, Load-Mvar = 1950\", \"Load\": \"Load-MW = 3675.7\"}, {\"Bus Name\": \"3018     CATDOG_G    13.800\", \"Area Number\": 5, \"Zone Number\": 5, \"Volt (PU)\": 0.9794, \"Volt (KV)\": 13.5151, \"Angle (Deg)\": -16.4907, \"Gen MW\": 100.0, \"Gen MVAR\": 80.0, \"Load MW\": 0.0, \"Load MVAR\": 0.0, \"Shunt MW\": 0.0, \"Shunt MVAR\": -0.0, \"To Bus Name\": NaN, \"MW\": 0.0, \"MVAR\": 0.0, \"Transformer Ratio\": NaN, \"Transformer Angle (Deg)\": 0.0, \"Percent\": 0, \"Rating\": null, \"Load Flow Case\": \"Load-MW = 3675.7, Gen-MW = 3762.5, Reactors-Mvar = 600, Capacitors-Mvar = 950, Load-Mvar = 1950\", \"Load\": \"Load-MW = 3675.7\"}, {\"Bus Name\": \"101     NUC-A       21.600\", \"Area Number\": 1, \"Zone Number\": 77, \"Volt (PU)\": 1.02, \"Volt (KV)\": 22.032, \"Angle (Deg)\": 1.6322, \"Gen MW\": 750.0, \"Gen MVAR\": 125.2095, \"Load MW\": 0.0, \"Load MVAR\": 0.0, \"Shunt MW\": 0.0, \"Shunt MVAR\": -0.0, \"To Bus Name\": NaN, \"MW\": 0.0, \"MVAR\": 0.0, \"Transformer Ratio\": NaN, \"Transformer Angle (Deg)\": 0.0, \"Percent\": 0, \"Rating\": null, \"Load Flow Case\": \"Load-MW = 3749.3093, Gen-MW = 3843.7, Reactors-Mvar = 600, Capacitors-Mvar = 950, Load-Mvar = 1950\", \"Load\": \"Load-MW = 3749.3093\"}, {\"Bus Name\": \"102     NUC-B       21.600\", \"Area Number\": 1, \"Zone Number\": 77, \"Volt (PU)\": 1.02, \"Volt (KV)\": 22.032, \"Angle (Deg)\": 1.6322, \"Gen MW\": 750.0, \"Gen MVAR\": 125.2095, \"Load MW\": 0.0, \"Load MVAR\": 0.0, \"Shunt MW\": 0.0, \"Shunt MVAR\": -0.0, \"To Bus Name\": NaN, \"MW\": 0.0, \"MVAR\": 0.0, \"Transformer Ratio\": NaN, \"Transformer Angle (Deg)\": 0.0, \"Percent\": 0, \"Rating\": null, \"Load Flow Case\": \"Load-MW = 3749.3093, Gen-MW = 3843.7, Reactors-Mvar = 600, Capacitors-Mvar = 950, Load-Mvar = 1950\", \"Load\": \"Load-MW = 3749.3093\"}, {\"Bus Name\": \"206     URBGEN      18.000\", \"Area Number\": 2, \"Zone Number\": 2, \"Volt (PU)\": 0.9725, \"Volt (KV)\": 17.5045, \"Angle (Deg)\": -20.0815, \"Gen MW\": 799.9999, \"Gen MVAR\": 600.0, \"Load MW\": 0.0, \"Load MVAR\": 0.0, \"Shunt MW\": 0.0, \"Shunt MVAR\": -0.0, \"To Bus Name\": NaN, \"MW\": 0.0, \"MVAR\": 0.0, \"Transformer Ratio\": NaN, \"Transformer Angle (Deg)\": 0.0, \"Percent\": 0, \"Rating\": null, \"Load Flow Case\": \"Load-MW = 3749.3093, Gen-MW = 3843.7, Reactors-Mvar = 600, Capacitors-Mvar = 950, Load-Mvar = 1950\", \"Load\": \"Load-MW = 3749.3093\"}, {\"Bus Name\": \"211     HYDRO_G     20.000\", \"Area Number\": 2, \"Zone Number\": 2, \"Volt (PU)\": 1.1073, \"Volt (KV)\": 22.1463, \"Angle (Deg)\": -3.0325, \"Gen MW\": 600.0, \"Gen MVAR\": 363.0677, \"Load MW\": 0.0, \"Load MVAR\": 0.0, \"Shunt MW\": 0.0, \"Shunt MVAR\": -0.0, \"To Bus Name\": NaN, \"MW\": 0.0, \"MVAR\": 0.0, \"Transformer Ratio\": NaN, \"Transformer Angle (Deg)\": 0.0, \"Percent\": 0, \"Rating\": null, \"Load Flow Case\": \"Load-MW = 3749.3093, Gen-MW = 3843.7, Reactors-Mvar = 600, Capacitors-Mvar = 950, Load-Mvar = 1950\", \"Load\": \"Load-MW = 3749.3093\"}, {\"Bus Name\": \"3011     MINE_G      13.800\", \"Area Number\": 5, \"Zone Number\": 5, \"Volt (PU)\": 1.04, \"Volt (KV)\": 14.352, \"Angle (Deg)\": 0.0, \"Gen MW\": 843.7432, \"Gen MVAR\": 309.6772, \"Load MW\": 0.0, \"Load MVAR\": 0.0, \"Shunt MW\": 0.0, \"Shunt MVAR\": -0.0, \"To Bus Name\": NaN, \"MW\": 0.0, \"MVAR\": 0.0, \"Transformer Ratio\": NaN, \"Transformer Angle (Deg)\": 0.0, \"Percent\": 0, \"Rating\": null, \"Load Flow Case\": \"Load-MW = 3749.3093, Gen-MW = 3843.7, Reactors-Mvar = 600, Capacitors-Mvar = 950, Load-Mvar = 1950\", \"Load\": \"Load-MW = 3749.3093\"}, {\"Bus Name\": \"3018     CATDOG_G    13.800\", \"Area Number\": 5, \"Zone Number\": 5, \"Volt (PU)\": 0.9684, \"Volt (KV)\": 13.364, \"Angle (Deg)\": -18.6719, \"Gen MW\": 100.0, \"Gen MVAR\": 80.0, \"Load MW\": 0.0, \"Load MVAR\": 0.0, \"Shunt MW\": 0.0, \"Shunt MVAR\": -0.0, \"To Bus Name\": NaN, \"MW\": 0.0, \"MVAR\": 0.0, \"Transformer Ratio\": NaN, \"Transformer Angle (Deg)\": 0.0, \"Percent\": 0, \"Rating\": null, \"Load Flow Case\": \"Load-MW = 3749.3093, Gen-MW = 3843.7, Reactors-Mvar = 600, Capacitors-Mvar = 950, Load-Mvar = 1950\", \"Load\": \"Load-MW = 3749.3093\"}]}}, {\"mode\": \"vega-lite\"});\n",
       "</script>"
      ],
      "text/plain": [
       "alt.LayerChart(...)"
      ]
     },
     "execution_count": 51,
     "metadata": {},
     "output_type": "execute_result"
    }
   ],
   "source": [
    "plot_load_flow(data_analysis, 'Bus Name', 'Gen MVAR', 'Load', 'Load Flow Case')"
   ]
  },
  {
   "cell_type": "markdown",
   "id": "679dc96c-ea1c-4a4c-97c2-e5f2234528af",
   "metadata": {},
   "source": [
    "#### Conclusion"
   ]
  },
  {
   "cell_type": "markdown",
   "id": "63b8a992-2034-4a04-b28e-34a2360c854b",
   "metadata": {},
   "source": [
    "Similar to the above analysis, various information can be extracted from the LOUT activity based on the question to be answered.  "
   ]
  }
 ],
 "metadata": {
  "kernelspec": {
   "display_name": "Python 3",
   "language": "python",
   "name": "python3"
  },
  "language_info": {
   "codemirror_mode": {
    "name": "ipython",
    "version": 3
   },
   "file_extension": ".py",
   "mimetype": "text/x-python",
   "name": "python",
   "nbconvert_exporter": "python",
   "pygments_lexer": "ipython3",
   "version": "3.8.8"
  }
 },
 "nbformat": 4,
 "nbformat_minor": 5
}
